{
 "cells": [
  {
   "cell_type": "code",
   "execution_count": 2,
   "metadata": {
    "collapsed": false
   },
   "outputs": [],
   "source": [
    "from simulation import *\n",
    "from aesthetics import *\n",
    "\n",
    "import glob\n",
    "import os as os\n",
    "import re as re\n",
    "import pandas as pd\n",
    "\n",
    "%reload_ext autoreload\n",
    "%autoreload 2\n",
    "%matplotlib inline\n",
    "mpl.rc('text', usetex=True)\n",
    "cmap = sns.color_palette(\"Paired\", 10)"
   ]
  },
  {
   "cell_type": "code",
   "execution_count": 3,
   "metadata": {
    "collapsed": true
   },
   "outputs": [],
   "source": [
    "from plot import *"
   ]
  },
  {
   "cell_type": "markdown",
   "metadata": {},
   "source": [
    "# Load in pre-computed pandas `DataFrame`s\n",
    "\n",
    "These pickle files contain flux, stall force, and maximum power for each torsion angle as a fuction of substrate concentration. The concentration is stored as an exponent (i.e., -6.0 means the substrate concentration is $10^{-6.0}$ M). Also note that during preparation of the manuscript, we changed the nomenclature of \"Driven flux\" to \"Reciprocating flux.\" The `Max load` and `Max power` are set to be 0.0 if they are lower than 0.0001 kcal/(mol cycle) or 0.0001 kcal/(mol second)."
   ]
  },
  {
   "cell_type": "code",
   "execution_count": 3,
   "metadata": {
    "collapsed": true
   },
   "outputs": [],
   "source": [
    "adk_312 = pd.read_pickle('adk-concentration-scan.pickle')\n",
    "pka_140 = pd.read_pickle('pka-concentration-scan.pickle')\n",
    "hiv_10 = pd.read_pickle('hiv-concentration-scan-catalytic-rate-10.pickle')\n",
    "hiv_200 = pd.read_pickle('hiv-concentration-scan-catalytic-rate-200.pickle')"
   ]
  },
  {
   "cell_type": "code",
   "execution_count": 33,
   "metadata": {
    "collapsed": false
   },
   "outputs": [
    {
     "data": {
      "text/html": [
       "<div>\n",
       "<table border=\"1\" class=\"dataframe\">\n",
       "  <thead>\n",
       "    <tr style=\"text-align: right;\">\n",
       "      <th></th>\n",
       "      <th>Concentration</th>\n",
       "      <th>Directional flux</th>\n",
       "      <th>Driven flux</th>\n",
       "      <th>File</th>\n",
       "      <th>Intersurface flux</th>\n",
       "      <th>Max load</th>\n",
       "      <th>Max power</th>\n",
       "      <th>ResID</th>\n",
       "    </tr>\n",
       "  </thead>\n",
       "  <tbody>\n",
       "    <tr>\n",
       "      <th>27090</th>\n",
       "      <td>-3.0</td>\n",
       "      <td>-0.144208</td>\n",
       "      <td>10.573240</td>\n",
       "      <td>chi1ALA11</td>\n",
       "      <td>3.059189</td>\n",
       "      <td>0.0</td>\n",
       "      <td>0.0</td>\n",
       "      <td>11</td>\n",
       "    </tr>\n",
       "    <tr>\n",
       "      <th>27091</th>\n",
       "      <td>-3.0</td>\n",
       "      <td>-0.007508</td>\n",
       "      <td>3.124329</td>\n",
       "      <td>chi1ALA127</td>\n",
       "      <td>1.412363</td>\n",
       "      <td>0.0</td>\n",
       "      <td>0.0</td>\n",
       "      <td>127</td>\n",
       "    </tr>\n",
       "    <tr>\n",
       "      <th>27092</th>\n",
       "      <td>-3.0</td>\n",
       "      <td>-0.032975</td>\n",
       "      <td>7.072458</td>\n",
       "      <td>chi1ALA17</td>\n",
       "      <td>2.718294</td>\n",
       "      <td>0.0</td>\n",
       "      <td>0.0</td>\n",
       "      <td>17</td>\n",
       "    </tr>\n",
       "    <tr>\n",
       "      <th>27093</th>\n",
       "      <td>-3.0</td>\n",
       "      <td>0.014157</td>\n",
       "      <td>4.480657</td>\n",
       "      <td>chi1ALA176</td>\n",
       "      <td>1.624334</td>\n",
       "      <td>0.0</td>\n",
       "      <td>0.0</td>\n",
       "      <td>176</td>\n",
       "    </tr>\n",
       "    <tr>\n",
       "      <th>27094</th>\n",
       "      <td>-3.0</td>\n",
       "      <td>0.013930</td>\n",
       "      <td>1.639636</td>\n",
       "      <td>chi1ALA186</td>\n",
       "      <td>0.580522</td>\n",
       "      <td>0.0</td>\n",
       "      <td>0.0</td>\n",
       "      <td>186</td>\n",
       "    </tr>\n",
       "  </tbody>\n",
       "</table>\n",
       "</div>"
      ],
      "text/plain": [
       "       Concentration  Directional flux  Driven flux        File  \\\n",
       "27090           -3.0         -0.144208    10.573240   chi1ALA11   \n",
       "27091           -3.0         -0.007508     3.124329  chi1ALA127   \n",
       "27092           -3.0         -0.032975     7.072458   chi1ALA17   \n",
       "27093           -3.0          0.014157     4.480657  chi1ALA176   \n",
       "27094           -3.0          0.013930     1.639636  chi1ALA186   \n",
       "\n",
       "       Intersurface flux  Max load  Max power ResID  \n",
       "27090           3.059189       0.0        0.0    11  \n",
       "27091           1.412363       0.0        0.0   127  \n",
       "27092           2.718294       0.0        0.0    17  \n",
       "27093           1.624334       0.0        0.0   176  \n",
       "27094           0.580522       0.0        0.0   186  "
      ]
     },
     "execution_count": 33,
     "metadata": {},
     "output_type": "execute_result"
    }
   ],
   "source": [
    "df = return_concentration_slice(adk_312, -3)\n",
    "df.head()"
   ]
  },
  {
   "cell_type": "code",
   "execution_count": 34,
   "metadata": {
    "collapsed": false
   },
   "outputs": [],
   "source": [
    "data_frame_to_chimera(df, df_index_column='ResID', df_target_column='Directional flux',\n",
    "                     filename='adk-directional-flux-chimera', chimera_label='directionalFlux')"
   ]
  },
  {
   "cell_type": "code",
   "execution_count": 35,
   "metadata": {
    "collapsed": false
   },
   "outputs": [
    {
     "data": {
      "text/html": [
       "<div>\n",
       "<table border=\"1\" class=\"dataframe\">\n",
       "  <thead>\n",
       "    <tr style=\"text-align: right;\">\n",
       "      <th></th>\n",
       "      <th>Concentration</th>\n",
       "      <th>Directional flux</th>\n",
       "      <th>Driven flux</th>\n",
       "      <th>File</th>\n",
       "      <th>Intersurface flux</th>\n",
       "      <th>Max load</th>\n",
       "      <th>Max power</th>\n",
       "      <th>ResID</th>\n",
       "    </tr>\n",
       "  </thead>\n",
       "  <tbody>\n",
       "    <tr>\n",
       "      <th>24450</th>\n",
       "      <td>-3.0</td>\n",
       "      <td>-0.026414</td>\n",
       "      <td>2.659631</td>\n",
       "      <td>chi1ALA121</td>\n",
       "      <td>0.920970</td>\n",
       "      <td>0.0</td>\n",
       "      <td>0.0</td>\n",
       "      <td>121</td>\n",
       "    </tr>\n",
       "    <tr>\n",
       "      <th>24451</th>\n",
       "      <td>-3.0</td>\n",
       "      <td>-0.000539</td>\n",
       "      <td>2.298046</td>\n",
       "      <td>chi1ALA127</td>\n",
       "      <td>0.824426</td>\n",
       "      <td>0.0</td>\n",
       "      <td>0.0</td>\n",
       "      <td>127</td>\n",
       "    </tr>\n",
       "    <tr>\n",
       "      <th>24452</th>\n",
       "      <td>-3.0</td>\n",
       "      <td>-0.041351</td>\n",
       "      <td>1.413070</td>\n",
       "      <td>chi1ALA170</td>\n",
       "      <td>0.489844</td>\n",
       "      <td>0.0</td>\n",
       "      <td>0.0</td>\n",
       "      <td>170</td>\n",
       "    </tr>\n",
       "    <tr>\n",
       "      <th>24453</th>\n",
       "      <td>-3.0</td>\n",
       "      <td>-0.026607</td>\n",
       "      <td>1.460113</td>\n",
       "      <td>chi1ALA22</td>\n",
       "      <td>0.474740</td>\n",
       "      <td>0.0</td>\n",
       "      <td>0.0</td>\n",
       "      <td>22</td>\n",
       "    </tr>\n",
       "    <tr>\n",
       "      <th>24454</th>\n",
       "      <td>-3.0</td>\n",
       "      <td>0.006422</td>\n",
       "      <td>1.737389</td>\n",
       "      <td>chi1ALA28</td>\n",
       "      <td>0.584563</td>\n",
       "      <td>0.0</td>\n",
       "      <td>0.0</td>\n",
       "      <td>28</td>\n",
       "    </tr>\n",
       "  </tbody>\n",
       "</table>\n",
       "</div>"
      ],
      "text/plain": [
       "       Concentration  Directional flux  Driven flux        File  \\\n",
       "24450           -3.0         -0.026414     2.659631  chi1ALA121   \n",
       "24451           -3.0         -0.000539     2.298046  chi1ALA127   \n",
       "24452           -3.0         -0.041351     1.413070  chi1ALA170   \n",
       "24453           -3.0         -0.026607     1.460113   chi1ALA22   \n",
       "24454           -3.0          0.006422     1.737389   chi1ALA28   \n",
       "\n",
       "       Intersurface flux  Max load  Max power ResID  \n",
       "24450           0.920970       0.0        0.0   121  \n",
       "24451           0.824426       0.0        0.0   127  \n",
       "24452           0.489844       0.0        0.0   170  \n",
       "24453           0.474740       0.0        0.0    22  \n",
       "24454           0.584563       0.0        0.0    28  "
      ]
     },
     "execution_count": 35,
     "metadata": {},
     "output_type": "execute_result"
    }
   ],
   "source": [
    "df = return_concentration_slice(hiv_200, -3)\n",
    "df.head()"
   ]
  },
  {
   "cell_type": "code",
   "execution_count": 36,
   "metadata": {
    "collapsed": false
   },
   "outputs": [],
   "source": [
    "data_frame_to_chimera(df, df_index_column='ResID', df_target_column='Directional flux',\n",
    "                     filename='hiv-200-directional-flux-chimera', chimera_label='directionalFlux')"
   ]
  },
  {
   "cell_type": "code",
   "execution_count": 98,
   "metadata": {
    "collapsed": false
   },
   "outputs": [
    {
     "data": {
      "text/html": [
       "<div>\n",
       "<table border=\"1\" class=\"dataframe\">\n",
       "  <thead>\n",
       "    <tr style=\"text-align: right;\">\n",
       "      <th></th>\n",
       "      <th>Concentration</th>\n",
       "      <th>Directional flux</th>\n",
       "      <th>Driven flux</th>\n",
       "      <th>File</th>\n",
       "      <th>Intersurface flux</th>\n",
       "      <th>Max load</th>\n",
       "      <th>Max power</th>\n",
       "      <th>ResID</th>\n",
       "    </tr>\n",
       "  </thead>\n",
       "  <tbody>\n",
       "    <tr>\n",
       "      <th>40200</th>\n",
       "      <td>-3.0</td>\n",
       "      <td>-0.014286</td>\n",
       "      <td>3.171784</td>\n",
       "      <td>chi1ARG119</td>\n",
       "      <td>1.001205</td>\n",
       "      <td>-0.00001</td>\n",
       "      <td>3.624490e-08</td>\n",
       "      <td>119</td>\n",
       "    </tr>\n",
       "    <tr>\n",
       "      <th>40201</th>\n",
       "      <td>-3.0</td>\n",
       "      <td>-0.000113</td>\n",
       "      <td>16.091339</td>\n",
       "      <td>chi1ARG120</td>\n",
       "      <td>4.665881</td>\n",
       "      <td>0.00000</td>\n",
       "      <td>0.000000e+00</td>\n",
       "      <td>120</td>\n",
       "    </tr>\n",
       "    <tr>\n",
       "      <th>40202</th>\n",
       "      <td>-3.0</td>\n",
       "      <td>-0.155997</td>\n",
       "      <td>7.458688</td>\n",
       "      <td>chi1ARG123</td>\n",
       "      <td>2.087406</td>\n",
       "      <td>0.00000</td>\n",
       "      <td>0.000000e+00</td>\n",
       "      <td>123</td>\n",
       "    </tr>\n",
       "    <tr>\n",
       "      <th>40203</th>\n",
       "      <td>-3.0</td>\n",
       "      <td>-0.098021</td>\n",
       "      <td>1.312916</td>\n",
       "      <td>chi1ARG130</td>\n",
       "      <td>0.502688</td>\n",
       "      <td>-0.00075</td>\n",
       "      <td>3.651741e-05</td>\n",
       "      <td>130</td>\n",
       "    </tr>\n",
       "    <tr>\n",
       "      <th>40204</th>\n",
       "      <td>-3.0</td>\n",
       "      <td>19.501998</td>\n",
       "      <td>25.535148</td>\n",
       "      <td>chi1ARG151</td>\n",
       "      <td>7.853374</td>\n",
       "      <td>0.00669</td>\n",
       "      <td>6.514776e-02</td>\n",
       "      <td>151</td>\n",
       "    </tr>\n",
       "  </tbody>\n",
       "</table>\n",
       "</div>"
      ],
      "text/plain": [
       "       Concentration  Directional flux  Driven flux        File  \\\n",
       "40200           -3.0         -0.014286     3.171784  chi1ARG119   \n",
       "40201           -3.0         -0.000113    16.091339  chi1ARG120   \n",
       "40202           -3.0         -0.155997     7.458688  chi1ARG123   \n",
       "40203           -3.0         -0.098021     1.312916  chi1ARG130   \n",
       "40204           -3.0         19.501998    25.535148  chi1ARG151   \n",
       "\n",
       "       Intersurface flux  Max load     Max power ResID  \n",
       "40200           1.001205  -0.00001  3.624490e-08   119  \n",
       "40201           4.665881   0.00000  0.000000e+00   120  \n",
       "40202           2.087406   0.00000  0.000000e+00   123  \n",
       "40203           0.502688  -0.00075  3.651741e-05   130  \n",
       "40204           7.853374   0.00669  6.514776e-02   151  "
      ]
     },
     "execution_count": 98,
     "metadata": {},
     "output_type": "execute_result"
    }
   ],
   "source": [
    "df = return_concentration_slice(pka_140, -3)\n",
    "df.head()"
   ]
  },
  {
   "cell_type": "markdown",
   "metadata": {},
   "source": [
    "In PKA, the PDB residue numbering is offset from this ResID by 14."
   ]
  },
  {
   "cell_type": "code",
   "execution_count": 99,
   "metadata": {
    "collapsed": false
   },
   "outputs": [
    {
     "name": "stderr",
     "output_type": "stream",
     "text": [
      "/home/dslochower/data/applications/anaconda3/lib/python3.6/site-packages/ipykernel/__main__.py:1: SettingWithCopyWarning: \n",
      "A value is trying to be set on a copy of a slice from a DataFrame.\n",
      "Try using .loc[row_indexer,col_indexer] = value instead\n",
      "\n",
      "See the caveats in the documentation: http://pandas.pydata.org/pandas-docs/stable/indexing.html#indexing-view-versus-copy\n",
      "  if __name__ == '__main__':\n"
     ]
    }
   ],
   "source": [
    "df['ResID'] = df['ResID'].astype(int).apply(lambda x: x+14).astype('O')"
   ]
  },
  {
   "cell_type": "code",
   "execution_count": 100,
   "metadata": {
    "collapsed": false
   },
   "outputs": [
    {
     "data": {
      "text/html": [
       "<div>\n",
       "<table border=\"1\" class=\"dataframe\">\n",
       "  <thead>\n",
       "    <tr style=\"text-align: right;\">\n",
       "      <th></th>\n",
       "      <th>Concentration</th>\n",
       "      <th>Directional flux</th>\n",
       "      <th>Driven flux</th>\n",
       "      <th>File</th>\n",
       "      <th>Intersurface flux</th>\n",
       "      <th>Max load</th>\n",
       "      <th>Max power</th>\n",
       "      <th>ResID</th>\n",
       "    </tr>\n",
       "  </thead>\n",
       "  <tbody>\n",
       "    <tr>\n",
       "      <th>40200</th>\n",
       "      <td>-3.0</td>\n",
       "      <td>-0.014286</td>\n",
       "      <td>3.171784</td>\n",
       "      <td>chi1ARG119</td>\n",
       "      <td>1.001205</td>\n",
       "      <td>-0.00001</td>\n",
       "      <td>3.624490e-08</td>\n",
       "      <td>133</td>\n",
       "    </tr>\n",
       "    <tr>\n",
       "      <th>40201</th>\n",
       "      <td>-3.0</td>\n",
       "      <td>-0.000113</td>\n",
       "      <td>16.091339</td>\n",
       "      <td>chi1ARG120</td>\n",
       "      <td>4.665881</td>\n",
       "      <td>0.00000</td>\n",
       "      <td>0.000000e+00</td>\n",
       "      <td>134</td>\n",
       "    </tr>\n",
       "    <tr>\n",
       "      <th>40202</th>\n",
       "      <td>-3.0</td>\n",
       "      <td>-0.155997</td>\n",
       "      <td>7.458688</td>\n",
       "      <td>chi1ARG123</td>\n",
       "      <td>2.087406</td>\n",
       "      <td>0.00000</td>\n",
       "      <td>0.000000e+00</td>\n",
       "      <td>137</td>\n",
       "    </tr>\n",
       "    <tr>\n",
       "      <th>40203</th>\n",
       "      <td>-3.0</td>\n",
       "      <td>-0.098021</td>\n",
       "      <td>1.312916</td>\n",
       "      <td>chi1ARG130</td>\n",
       "      <td>0.502688</td>\n",
       "      <td>-0.00075</td>\n",
       "      <td>3.651741e-05</td>\n",
       "      <td>144</td>\n",
       "    </tr>\n",
       "    <tr>\n",
       "      <th>40204</th>\n",
       "      <td>-3.0</td>\n",
       "      <td>19.501998</td>\n",
       "      <td>25.535148</td>\n",
       "      <td>chi1ARG151</td>\n",
       "      <td>7.853374</td>\n",
       "      <td>0.00669</td>\n",
       "      <td>6.514776e-02</td>\n",
       "      <td>165</td>\n",
       "    </tr>\n",
       "  </tbody>\n",
       "</table>\n",
       "</div>"
      ],
      "text/plain": [
       "       Concentration  Directional flux  Driven flux        File  \\\n",
       "40200           -3.0         -0.014286     3.171784  chi1ARG119   \n",
       "40201           -3.0         -0.000113    16.091339  chi1ARG120   \n",
       "40202           -3.0         -0.155997     7.458688  chi1ARG123   \n",
       "40203           -3.0         -0.098021     1.312916  chi1ARG130   \n",
       "40204           -3.0         19.501998    25.535148  chi1ARG151   \n",
       "\n",
       "       Intersurface flux  Max load     Max power ResID  \n",
       "40200           1.001205  -0.00001  3.624490e-08   133  \n",
       "40201           4.665881   0.00000  0.000000e+00   134  \n",
       "40202           2.087406   0.00000  0.000000e+00   137  \n",
       "40203           0.502688  -0.00075  3.651741e-05   144  \n",
       "40204           7.853374   0.00669  6.514776e-02   165  "
      ]
     },
     "execution_count": 100,
     "metadata": {},
     "output_type": "execute_result"
    }
   ],
   "source": [
    "df.head()"
   ]
  },
  {
   "cell_type": "code",
   "execution_count": 106,
   "metadata": {
    "collapsed": false
   },
   "outputs": [],
   "source": [
    "data_frame_to_chimera(df, df_index_column='ResID', df_target_column='Directional flux',\n",
    "                     filename='pka-directional-flux-chimera', chimera_label='directionalFlux')"
   ]
  },
  {
   "cell_type": "markdown",
   "metadata": {
    "collapsed": true
   },
   "source": [
    "# HIVP threshold plot at different concentrations"
   ]
  },
  {
   "cell_type": "code",
   "execution_count": 4,
   "metadata": {
    "collapsed": false
   },
   "outputs": [],
   "source": [
    "hiv_10 = pd.read_pickle('hiv-concentration-scan-catalytic-rate-10.pickle')\n",
    "hiv_100 = pd.read_pickle('hiv-high-catalytic-rate-100.pickle')\n",
    "hiv_200 = pd.read_pickle('hiv-concentration-scan-catalytic-rate-200.pickle')\n",
    "hiv_300 = pd.read_pickle('hiv-high-catalytic-rate-300.pickle')"
   ]
  },
  {
   "cell_type": "code",
   "execution_count": 16,
   "metadata": {
    "collapsed": false
   },
   "outputs": [
    {
     "name": "stderr",
     "output_type": "stream",
     "text": [
      "100%|██████████| 60/60 [00:00<00:00, 307.89it/s]\n",
      "100%|██████████| 60/60 [00:00<00:00, 289.81it/s]\n",
      "100%|██████████| 60/60 [00:00<00:00, 326.25it/s]\n",
      "100%|██████████| 60/60 [00:00<00:00, 320.54it/s]\n"
     ]
    }
   ],
   "source": [
    "concentrations, hiv_10_directional_flux_above_1 = find_above_threshold(hiv_10, 'Directional flux', 1)\n",
    "concentrations, hiv_100_directional_flux_above_1 = find_above_threshold(hiv_100, 'Directional flux', 1)\n",
    "concentrations, hiv_200_directional_flux_above_1 = find_above_threshold(hiv_200, 'Directional flux', 1)\n",
    "concentrations, hiv_300_directional_flux_above_1 = find_above_threshold(hiv_300, 'Directional flux', 1)"
   ]
  },
  {
   "cell_type": "code",
   "execution_count": 31,
   "metadata": {
    "collapsed": false
   },
   "outputs": [
    {
     "data": {
      "image/png": "[encoded data removed]",
      "text/plain": [
       "<matplotlib.figure.Figure at 0x7f2b9917b278>"
      ]
     },
     "metadata": {},
     "output_type": "display_data"
    }
   ],
   "source": [
    "fig = plt.figure(figsize=(6 * 1.2, 6))\n",
    "gs = GridSpec(1, 1, wspace=0.2, hspace=0.5)\n",
    "ax = plt.subplot(gs[0, 0])\n",
    "cmap = sns.color_palette(\"Reds\", 4)\n",
    "\n",
    "ax.plot(concentrations, hiv_10_directional_flux_above_1, c=cmap[0], label=r'$k_\\text{{cat}} = 10$ s$^{{-1}}$')\n",
    "ax.plot(concentrations, hiv_100_directional_flux_above_1, c=cmap[1], label=r'$k_\\text{{cat}} = 100$ s$^{{-1}}$')\n",
    "ax.plot(concentrations, hiv_200_directional_flux_above_1, c=cmap[2], label=r'$k_\\text{{cat}} = 200$ s$^{{-1}}$')\n",
    "ax.plot(concentrations, hiv_300_directional_flux_above_1, c=cmap[3], label=r'$k_\\text{{cat}} = 300$ s$^{{-1}}$')\n",
    "ax.legend(loc='upper left', frameon=True, framealpha=1.0, edgecolor='k')\n",
    "ax.set_xlabel('Substrate concentration (M)')\n",
    "ax.set_ylabel('Number over threshold')\n",
    "ax.set_xscale('log')\n",
    "ax.set_ylim([-5, 75])\n",
    "ax.set_xlim([10**-6, 10**0])\n",
    "ax.set_xticks([10**-6, 10**-5, 10**-4, 10**-3, 10**-2, 10**-1, 10**0])\n",
    "paper_plot(fig)\n",
    "panel_label('a', panel_xoffset=-0.2, panel_yoffset=0.95)"
   ]
  },
  {
   "cell_type": "code",
   "execution_count": 18,
   "metadata": {
    "collapsed": false
   },
   "outputs": [
    {
     "name": "stderr",
     "output_type": "stream",
     "text": [
      "100%|██████████| 60/60 [00:00<00:00, 320.89it/s]\n",
      "100%|██████████| 60/60 [00:00<00:00, 327.85it/s]\n",
      "100%|██████████| 60/60 [00:00<00:00, 324.16it/s]\n",
      "100%|██████████| 60/60 [00:00<00:00, 325.69it/s]\n"
     ]
    }
   ],
   "source": [
    "concentrations, hiv_10_directional_flux_above_point1 = find_above_threshold(hiv_10, 'Directional flux', 0.1)\n",
    "concentrations, hiv_100_directional_flux_above_point1 = find_above_threshold(hiv_100, 'Directional flux', 0.1)\n",
    "concentrations, hiv_200_directional_flux_above_point1 = find_above_threshold(hiv_200, 'Directional flux', 0.1)\n",
    "concentrations, hiv_300_directional_flux_above_point1 = find_above_threshold(hiv_300, 'Directional flux', 0.1)"
   ]
  },
  {
   "cell_type": "code",
   "execution_count": 34,
   "metadata": {
    "collapsed": false
   },
   "outputs": [
    {
     "data": {
      "image/png": "[encoded data removed]",
      "text/plain": [
       "<matplotlib.figure.Figure at 0x7f2b9908b710>"
      ]
     },
     "metadata": {},
     "output_type": "display_data"
    }
   ],
   "source": [
    "fig = plt.figure(figsize=(6 * 1.2, 6))\n",
    "gs = GridSpec(1, 1, wspace=0.2, hspace=0.5)\n",
    "ax = plt.subplot(gs[0, 0])\n",
    "cmap = sns.color_palette(\"Reds\", 4)\n",
    "\n",
    "ax.plot(concentrations, hiv_10_directional_flux_above_point1, c=cmap[0], label=r'$k_\\text{{cat}} = 10$ s$^{{-1}}$')\n",
    "ax.plot(concentrations, hiv_100_directional_flux_above_point1, c=cmap[1], label=r'$k_\\text{{cat}} = 100$ s$^{{-1}}$')\n",
    "ax.plot(concentrations, hiv_200_directional_flux_above_point1, c=cmap[2], label=r'$k_\\text{{cat}} = 200$ s$^{{-1}}$')\n",
    "ax.plot(concentrations, hiv_300_directional_flux_above_point1, c=cmap[3], label=r'$k_\\text{{cat}} = 300$ s$^{{-1}}$')\n",
    "ax.legend(loc='upper left', frameon=True, framealpha=1.0, edgecolor='k')\n",
    "ax.set_xlabel('Substrate concentration (M)')\n",
    "ax.set_ylabel('Number over threshold')\n",
    "ax.set_xscale('log')\n",
    "ax.set_ylim([-5, 200])\n",
    "ax.set_xlim([10**-6, 10**0])\n",
    "ax.set_xticks([10**-6, 10**-5, 10**-4, 10**-3, 10**-2, 10**-1, 10**0])\n",
    "paper_plot(fig)\n",
    "panel_label('b', panel_xoffset=-0.23, panel_yoffset=0.95)"
   ]
  },
  {
   "cell_type": "code",
   "execution_count": null,
   "metadata": {
    "collapsed": true
   },
   "outputs": [],
   "source": []
  }
 ],
 "metadata": {
  "anaconda-cloud": {},
  "kernelspec": {
   "display_name": "Python 3",
   "language": "python",
   "name": "python3"
  },
  "language_info": {
   "codemirror_mode": {
    "name": "ipython",
    "version": 3
   },
   "file_extension": ".py",
   "mimetype": "text/x-python",
   "name": "python",
   "nbconvert_exporter": "python",
   "pygments_lexer": "ipython3",
   "version": "3.6.0"
  }
 },
 "nbformat": 4,
 "nbformat_minor": 0
}
