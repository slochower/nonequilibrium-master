{
 "cells": [
  {
   "cell_type": "code",
   "execution_count": 6,
   "metadata": {
    "collapsed": true
   },
   "outputs": [],
   "source": [
    "from simulation import *\n",
    "from aesthetics import *\n",
    "from models import *\n",
    "from data import *\n",
    "import os as os\n",
    "import re as re"
   ]
  },
  {
   "cell_type": "code",
   "execution_count": 7,
   "metadata": {
    "collapsed": true
   },
   "outputs": [],
   "source": [
    "%reload_ext autoreload\n",
    "%autoreload 2\n",
    "%matplotlib inline\n",
    "mpl.rc('text', usetex=True)"
   ]
  },
  {
   "cell_type": "code",
   "execution_count": 20,
   "metadata": {
    "collapsed": false
   },
   "outputs": [],
   "source": [
    "for file in range(len(unbound_files)):\n",
    "    long_name = os.path.splitext(os.path.basename(unbound_files[file]))[0]\n",
    "    short_name = re.search('^[^_]*', long_name).group(0)\n",
    "    if short_name == 'chi1CYM185':\n",
    "        pass\n",
    "    else:\n",
    "        data = np.genfromtxt(unbound_files[file])[1:]\n",
    "        reversed_data = data[::-1]\n",
    "        averaged = (data + reversed_data) / 2.\n",
    "        averaged = np.concatenate(([60], averaged))\n",
    "        np.savetxt('reversed-and-averaged/apo/' + long_name + '.txt', averaged, delimiter='\\n')"
   ]
  },
  {
   "cell_type": "code",
   "execution_count": 21,
   "metadata": {
    "collapsed": true
   },
   "outputs": [],
   "source": [
    "for file in range(len(bound_files)):\n",
    "    long_name = os.path.splitext(os.path.basename(bound_files[file]))[0]\n",
    "    short_name = re.search('^[^_]*', long_name).group(0)\n",
    "    if short_name == 'chi1CYM185':\n",
    "        pass\n",
    "    else:\n",
    "        data = np.genfromtxt(bound_files[file])[1:]\n",
    "        reversed_data = data[::-1]\n",
    "        averaged = (data + reversed_data) / 2.\n",
    "        averaged = np.concatenate(([60], averaged))\n",
    "        np.savetxt('reversed-and-averaged/atpmg/' + long_name + '.txt', averaged, delimiter='\\n')"
   ]
  },
  {
   "cell_type": "code",
   "execution_count": null,
   "metadata": {
    "collapsed": true
   },
   "outputs": [],
   "source": []
  }
 ],
 "metadata": {
  "anaconda-cloud": {},
  "kernelspec": {
   "display_name": "Python [Root]",
   "language": "python",
   "name": "Python [Root]"
  },
  "language_info": {
   "codemirror_mode": {
    "name": "ipython",
    "version": 3
   },
   "file_extension": ".py",
   "mimetype": "text/x-python",
   "name": "python",
   "nbconvert_exporter": "python",
   "pygments_lexer": "ipython3",
   "version": "3.5.1"
  }
 },
 "nbformat": 4,
 "nbformat_minor": 0
}
