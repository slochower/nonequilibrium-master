{
 "cells": [
  {
   "cell_type": "code",
   "execution_count": null,
   "metadata": {
    "collapsed": true
   },
   "outputs": [],
   "source": [
    "# Tasks\n",
    "\n",
    "1. Now that the pickles have been made, combine the relevant calculations into a master file and re-check the green text graphs."
   ]
  },
  {
   "cell_type": "markdown",
   "metadata": {},
   "source": [
    "# Preliminaries\n",
    "This notebook has the code to make figures 1 & 2 in the manuscript (and related flux, load, and power plots as a function of concentration)."
   ]
  },
  {
   "cell_type": "code",
   "execution_count": 9,
   "metadata": {
    "collapsed": false
   },
   "outputs": [],
   "source": [
    "from simulation import *\n",
    "from aesthetics import *\n",
    "from models import *\n",
    "from data import *\n",
    "from analysis import *\n",
    "\n",
    "import glob\n",
    "import os as os\n",
    "import re as re\n",
    "import pandas as pd\n",
    "\n",
    "%reload_ext autoreload\n",
    "%autoreload 2\n",
    "%matplotlib inline\n",
    "mpl.rc('text', usetex=True)\n",
    "cmap = sns.color_palette(\"Paired\", 10)\n",
    "concentration = 10**-3"
   ]
  },
  {
   "cell_type": "markdown",
   "metadata": {
    "collapsed": true
   },
   "source": [
    "# ADK"
   ]
  },
  {
   "cell_type": "code",
   "execution_count": 10,
   "metadata": {
    "collapsed": true
   },
   "outputs": [],
   "source": [
    "adk_dir = '../../md-data/adenylate-kinase/'\n",
    "adk_unbound_files = sorted(glob.glob(adk_dir + 'AdKDihedHist_apo-4ake/' + '*'))\n",
    "names = []\n",
    "\n",
    "for file in range(len(adk_unbound_files)):\n",
    "    name = os.path.splitext(os.path.basename(adk_unbound_files[file]))[0]\n",
    "    name = re.search('^[^_]*', name).group(0)        \n",
    "    if re.search('omega*', name):\n",
    "        continue\n",
    "    if re.search('chi3ASN*', name):\n",
    "        continue\n",
    "    if re.search('chi5LYS*', name):\n",
    "        continue\n",
    "    names.append(name)\n"
   ]
  },
  {
   "cell_type": "code",
   "execution_count": null,
   "metadata": {
    "collapsed": false
   },
   "outputs": [
    {
     "name": "stdout",
     "output_type": "stream",
     "text": [
      "C                         +1.00e+06  second**-1\n",
      "D                         +3.00e+12  degrees**2 second**-1\n",
      "k_{cat}                   +3.12e+02  second**-1\n",
      "[S]                       +1.00e-03  M         \n",
      "dt                        +1.00e-12  second**-1\n",
      "-----------------         ---------  --------- \n",
      "Intrasurface flux         -1.44e-01  cycle second**-1\n",
      "Peak intrasurface flux    +1.06e+01  cycle second**-1\n",
      "Intersurface flux         +2.25e-05  cycle second**-1\n",
      "C                         +1.00e+06  second**-1\n",
      "D                         +3.00e+12  degrees**2 second**-1\n",
      "k_{cat}                   +3.12e+02  second**-1\n",
      "[S]                       +1.00e-03  M         \n",
      "dt                        +1.00e-12  second**-1\n",
      "-----------------         ---------  --------- \n",
      "Intrasurface flux         -7.58e-03  cycle second**-1\n",
      "Peak intrasurface flux    +3.12e+00  cycle second**-1\n",
      "Intersurface flux         +5.47e-06  cycle second**-1\n",
      "C                         +1.00e+06  second**-1\n",
      "D                         +3.00e+12  degrees**2 second**-1\n",
      "k_{cat}                   +3.12e+02  second**-1\n",
      "[S]                       +1.00e-03  M         \n",
      "dt                        +1.00e-12  second**-1\n",
      "-----------------         ---------  --------- \n",
      "Intrasurface flux         -3.30e-02  cycle second**-1\n",
      "Peak intrasurface flux    +7.07e+00  cycle second**-1\n",
      "Intersurface flux         +3.93e-05  cycle second**-1\n",
      "C                         +1.00e+06  second**-1\n",
      "D                         +3.00e+12  degrees**2 second**-1\n",
      "k_{cat}                   +3.12e+02  second**-1\n",
      "[S]                       +1.00e-03  M         \n",
      "dt                        +1.00e-12  second**-1\n",
      "-----------------         ---------  --------- \n",
      "Intrasurface flux         +1.41e-02  cycle second**-1\n",
      "Peak intrasurface flux    +4.48e+00  cycle second**-1\n",
      "Intersurface flux         +1.68e-05  cycle second**-1\n",
      "C                         +1.00e+06  second**-1\n",
      "D                         +3.00e+12  degrees**2 second**-1\n",
      "k_{cat}                   +3.12e+02  second**-1\n",
      "[S]                       +1.00e-03  M         \n",
      "dt                        +1.00e-12  second**-1\n",
      "-----------------         ---------  --------- \n",
      "Intrasurface flux         +1.40e-02  cycle second**-1\n",
      "Peak intrasurface flux    +1.64e+00  cycle second**-1\n",
      "Intersurface flux         +1.63e-05  cycle second**-1\n",
      "C                         +1.00e+06  second**-1\n",
      "D                         +3.00e+12  degrees**2 second**-1\n",
      "k_{cat}                   +3.12e+02  second**-1\n",
      "[S]                       +1.00e-03  M         \n",
      "dt                        +1.00e-12  second**-1\n",
      "-----------------         ---------  --------- \n",
      "Intrasurface flux         +1.57e-02  cycle second**-1\n",
      "Peak intrasurface flux    +1.03e+00  cycle second**-1\n",
      "Intersurface flux         +3.76e-05  cycle second**-1\n",
      "C                         +1.00e+06  second**-1\n",
      "D                         +3.00e+12  degrees**2 second**-1\n",
      "k_{cat}                   +3.12e+02  second**-1\n",
      "[S]                       +1.00e-03  M         \n",
      "dt                        +1.00e-12  second**-1\n",
      "-----------------         ---------  --------- \n",
      "Intrasurface flux         +1.12e-02  cycle second**-1\n",
      "Peak intrasurface flux    +1.25e+00  cycle second**-1\n",
      "Intersurface flux         +2.13e-05  cycle second**-1\n"
     ]
    },
    {
     "name": "stderr",
     "output_type": "stream",
     "text": [
      "/home/dslochower/anaconda3/lib/python3.5/site-packages/matplotlib/pyplot.py:516: RuntimeWarning: More than 20 figures have been opened. Figures created through the pyplot interface (`matplotlib.pyplot.figure`) are retained until explicitly closed and may consume too much memory. (To control this warning, see the rcParam `figure.max_open_warning`).\n",
      "  max_open_warning, RuntimeWarning)\n"
     ]
    },
    {
     "name": "stdout",
     "output_type": "stream",
     "text": [
      "C                         +1.00e+06  second**-1\n",
      "D                         +3.00e+12  degrees**2 second**-1\n",
      "k_{cat}                   +3.12e+02  second**-1\n",
      "[S]                       +1.00e-03  M         \n",
      "dt                        +1.00e-12  second**-1\n",
      "-----------------         ---------  --------- \n",
      "Intrasurface flux         +1.36e-02  cycle second**-1\n",
      "Peak intrasurface flux    +8.81e-01  cycle second**-1\n",
      "Intersurface flux         +2.74e-07  cycle second**-1\n",
      "C                         +1.00e+06  second**-1\n",
      "D                         +3.00e+12  degrees**2 second**-1\n",
      "k_{cat}                   +3.12e+02  second**-1\n",
      "[S]                       +1.00e-03  M         \n",
      "dt                        +1.00e-12  second**-1\n",
      "-----------------         ---------  --------- \n",
      "Intrasurface flux         +7.85e-03  cycle second**-1\n",
      "Peak intrasurface flux    +8.66e-01  cycle second**-1\n",
      "Intersurface flux         +2.03e-05  cycle second**-1\n",
      "C                         +1.00e+06  second**-1\n",
      "D                         +3.00e+12  degrees**2 second**-1\n",
      "k_{cat}                   +3.12e+02  second**-1\n",
      "[S]                       +1.00e-03  M         \n",
      "dt                        +1.00e-12  second**-1\n",
      "-----------------         ---------  --------- \n",
      "Intrasurface flux         -3.06e-02  cycle second**-1\n",
      "Peak intrasurface flux    +1.79e+00  cycle second**-1\n",
      "Intersurface flux         +2.08e-06  cycle second**-1\n",
      "C                         +1.00e+06  second**-1\n",
      "D                         +3.00e+12  degrees**2 second**-1\n",
      "k_{cat}                   +3.12e+02  second**-1\n",
      "[S]                       +1.00e-03  M         \n",
      "dt                        +1.00e-12  second**-1\n",
      "-----------------         ---------  --------- \n",
      "Intrasurface flux         -2.11e-02  cycle second**-1\n",
      "Peak intrasurface flux    +8.28e+00  cycle second**-1\n",
      "Intersurface flux         +6.20e-05  cycle second**-1\n",
      "C                         +1.00e+06  second**-1\n",
      "D                         +3.00e+12  degrees**2 second**-1\n",
      "k_{cat}                   +3.12e+02  second**-1\n",
      "[S]                       +1.00e-03  M         \n",
      "dt                        +1.00e-12  second**-1\n",
      "-----------------         ---------  --------- \n",
      "Intrasurface flux         -1.11e-02  cycle second**-1\n",
      "Peak intrasurface flux    +4.85e+00  cycle second**-1\n",
      "Intersurface flux         -7.39e-06  cycle second**-1\n",
      "C                         +1.00e+06  second**-1\n",
      "D                         +3.00e+12  degrees**2 second**-1\n",
      "k_{cat}                   +3.12e+02  second**-1\n",
      "[S]                       +1.00e-03  M         \n",
      "dt                        +1.00e-12  second**-1\n",
      "-----------------         ---------  --------- \n",
      "Intrasurface flux         +6.66e-02  cycle second**-1\n",
      "Peak intrasurface flux    +2.91e+00  cycle second**-1\n",
      "Intersurface flux         +6.58e-06  cycle second**-1\n",
      "C                         +1.00e+06  second**-1\n",
      "D                         +3.00e+12  degrees**2 second**-1\n",
      "k_{cat}                   +3.12e+02  second**-1\n",
      "[S]                       +1.00e-03  M         \n",
      "dt                        +1.00e-12  second**-1\n",
      "-----------------         ---------  --------- \n",
      "Intrasurface flux         -1.80e-02  cycle second**-1\n",
      "Peak intrasurface flux    +7.97e+00  cycle second**-1\n",
      "Intersurface flux         -1.40e-05  cycle second**-1\n",
      "C                         +1.00e+06  second**-1\n",
      "D                         +3.00e+12  degrees**2 second**-1\n",
      "k_{cat}                   +3.12e+02  second**-1\n",
      "[S]                       +1.00e-03  M         \n",
      "dt                        +1.00e-12  second**-1\n",
      "-----------------         ---------  --------- \n",
      "Intrasurface flux         -1.40e-03  cycle second**-1\n",
      "Peak intrasurface flux    +1.84e+00  cycle second**-1\n",
      "Intersurface flux         +1.76e-05  cycle second**-1\n",
      "C                         +1.00e+06  second**-1\n",
      "D                         +3.00e+12  degrees**2 second**-1\n",
      "k_{cat}                   +3.12e+02  second**-1\n",
      "[S]                       +1.00e-03  M         \n",
      "dt                        +1.00e-12  second**-1\n",
      "-----------------         ---------  --------- \n",
      "Intrasurface flux         +3.20e-03  cycle second**-1\n",
      "Peak intrasurface flux    +2.62e+00  cycle second**-1\n",
      "Intersurface flux         +1.66e-05  cycle second**-1\n"
     ]
    }
   ],
   "source": [
    "for name in names:\n",
    "    this = simulation(data_source = 'adk_md_data')\n",
    "    this.cSubstrate = concentration\n",
    "    this.name = name\n",
    "    this.simulate()\n",
    "    this.plot_input(save=True, filename='figures/'+name+'-input')\n",
    "    this.plot_energy(save=True, filename='figures/'+name+'-energy')\n",
    "    this.plot_flux(save=True, filename='figures/'+name+'-flux')\n",
    "    del this"
   ]
  },
  {
   "cell_type": "code",
   "execution_count": null,
   "metadata": {
    "collapsed": true
   },
   "outputs": [],
   "source": []
  }
 ],
 "metadata": {
  "anaconda-cloud": {},
  "kernelspec": {
   "display_name": "Python [Root]",
   "language": "python",
   "name": "Python [Root]"
  },
  "language_info": {
   "codemirror_mode": {
    "name": "ipython",
    "version": 3
   },
   "file_extension": ".py",
   "mimetype": "text/x-python",
   "name": "python",
   "nbconvert_exporter": "python",
   "pygments_lexer": "ipython3",
   "version": "3.5.1"
  }
 },
 "nbformat": 4,
 "nbformat_minor": 0
}
