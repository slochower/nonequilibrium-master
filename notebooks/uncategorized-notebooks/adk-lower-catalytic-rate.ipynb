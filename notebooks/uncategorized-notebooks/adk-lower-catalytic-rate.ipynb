{
 "cells": [
  {
   "cell_type": "code",
   "execution_count": 19,
   "metadata": {
    "collapsed": true
   },
   "outputs": [],
   "source": [
    "from simulation import *\n",
    "from aesthetics import *\n",
    "from models import *\n",
    "from data import *\n",
    "from analysis import *\n",
    "\n",
    "import glob\n",
    "import os as os\n",
    "import re as re\n",
    "import pandas as pd\n",
    "from tqdm import tqdm\n",
    "\n",
    "%reload_ext autoreload\n",
    "%autoreload 2\n",
    "%matplotlib inline\n",
    "mpl.rc('text', usetex=True)\n",
    "cmap = sns.color_palette(\"Paired\", 10)"
   ]
  },
  {
   "cell_type": "markdown",
   "metadata": {},
   "source": [
    "# Question: do the angles in ADK look like HIVP when the catalytic rate is lowered?"
   ]
  },
  {
   "cell_type": "code",
   "execution_count": 27,
   "metadata": {
    "collapsed": true
   },
   "outputs": [],
   "source": [
    "adk_dir = '../../md-data/adenylate-kinase'\n",
    "adk_unbound_files = sorted(glob.glob(adk_dir + '/AdKDihedHist_apo-4ake/' + '*'))\n",
    "names = []\n",
    "for file in range(len(adk_unbound_files)):\n",
    "    name = os.path.splitext(os.path.basename(adk_unbound_files[file]))[0]\n",
    "    name = re.search('^[^_]*', name).group(0)        \n",
    "    if re.search('omega*', name):\n",
    "        continue\n",
    "    if re.search('chi3ASN*', name):\n",
    "        continue\n",
    "    if re.search('chi5LYS*', name):\n",
    "        continue\n",
    "    names.append(name)"
   ]
  },
  {
   "cell_type": "code",
   "execution_count": 12,
   "metadata": {
    "collapsed": true
   },
   "outputs": [],
   "source": [
    "def summarize_fluxes(name, concentration, data_source='adk_md_data', catalytic_rate=None):\n",
    "    this = simulation(data_source = data_source)\n",
    "    this.cSubstrate = concentration\n",
    "    if catalytic_rate:\n",
    "        this.catalytic_rate = catalytic_rate\n",
    "    this.name = name\n",
    "    this.simulate()\n",
    "    directional_flux = np.mean(this.flux_u + this.flux_b)\n",
    "    intersurface_flux = max(abs(this.flux_ub))\n",
    "    # Make all flux on each surface positive\n",
    "    unbound_flux = abs(this.flux_u)\n",
    "    bound_flux = abs(this.flux_b)\n",
    "    # Now find the maximum on either surface\n",
    "    max_unbound = max(unbound_flux)\n",
    "    max_bound = max(bound_flux)\n",
    "    driven_flux = max([max_unbound, max_bound])\n",
    "    del this\n",
    "    return directional_flux, intersurface_flux, driven_flux\n"
   ]
  },
  {
   "cell_type": "code",
   "execution_count": 13,
   "metadata": {
    "collapsed": true
   },
   "outputs": [],
   "source": [
    "def summarize_power_and_load(name, concentration, data_source='adk_md_data', negative=False,\n",
    "                            debug=False, catalytic_rate=None):\n",
    "    this = simulation(data_source=data_source)\n",
    "    this.cSubstrate = concentration\n",
    "    if catalytic_rate:\n",
    "        this.catalytic_rate = catalytic_rate\n",
    "    this.name = name\n",
    "    # The difference now, is that we're going to need to simulate with\n",
    "    # an applied load.\n",
    "    this.load = True\n",
    "    # Initialize the applied load to be something small, and we'll increase\n",
    "    # from there on out.\n",
    "    slope = 0.000\n",
    "    increment = 0.00001\n",
    "    loads = []\n",
    "    power_given_load = []\n",
    "    flux_given_load = []\n",
    "    while True:\n",
    "        if negative:\n",
    "            this.load_slope = -slope\n",
    "        else:\n",
    "            this.load_slope = slope\n",
    "        this.simulate()\n",
    "        # Bookkeeping\n",
    "        flux = np.mean(this.flux_u + this.flux_b)\n",
    "        power = this.load_slope * np.mean(this.flux_u + this.flux_b)\n",
    "        loads.append(this.load_slope)\n",
    "        flux_given_load.append(flux)\n",
    "        power_given_load.append(power)\n",
    "        # Now, we need to check the power trend to see if we should break\n",
    "        # out of the loop.\n",
    "        max_power = max(power_given_load)\n",
    "        max_power_index = power_given_load.index(max_power)\n",
    "        # Is the maximum power the last element?\n",
    "        if max_power > power_given_load[0] and max_power > power_given_load[-1]:\n",
    "            # print('Looks good. Maximum power = {} with load = {}'.format(\n",
    "            #    max_power, loads[max_power_index]))\n",
    "            # But let's check and make sure the power doesn't continue to increase,\n",
    "            # before we break\n",
    "            slope += increment\n",
    "            if negative:\n",
    "                this.load_slope = -slope\n",
    "            else:\n",
    "                this.load_slope = slope\n",
    "            this.simulate()\n",
    "            power = this.load_slope * np.mean(this.flux_u + this.flux_b)\n",
    "            if max_power > power:\n",
    "                # break\n",
    "                return max_power, loads[max_power_index]\n",
    "        if max_power == 0 and len(power_given_load) > 100:\n",
    "            # Sometimes this happens... \n",
    "            # We should probably make a note of this too. Ugh.\n",
    "            # This can happen if the maximum load that can be supported is even \n",
    "            # smaller than the increment size.\n",
    "            return 0.0, 0.0\n",
    "        if len(power_given_load) % 100 == 0:\n",
    "            increment *= 10\n",
    "        if len(power_given_load) > 1000:\n",
    "            print('I give up.')\n",
    "        if slope > 10:\n",
    "            print('This doesn\\'t make sense.')\n",
    "            break\n",
    "        slope += increment\n",
    "    del this"
   ]
  },
  {
   "cell_type": "code",
   "execution_count": 29,
   "metadata": {
    "collapsed": false,
    "scrolled": true
   },
   "outputs": [
    {
     "name": "stderr",
     "output_type": "stream",
     "text": [
      "\r",
      "  0%|          | 0/60 [00:00<?, ?it/s]"
     ]
    },
    {
     "name": "stdout",
     "output_type": "stream",
     "text": [
      "concentration = -6.0\n"
     ]
    },
    {
     "name": "stderr",
     "output_type": "stream",
     "text": [
      "\r",
      "  2%|▏         | 1/60 [00:15<15:19, 15.58s/it]"
     ]
    },
    {
     "name": "stdout",
     "output_type": "stream",
     "text": [
      "concentration = -5.9\n"
     ]
    },
    {
     "name": "stderr",
     "output_type": "stream",
     "text": [
      "\r",
      "  3%|▎         | 2/60 [00:30<14:50, 15.35s/it]"
     ]
    },
    {
     "name": "stdout",
     "output_type": "stream",
     "text": [
      "concentration = -5.800000000000001\n"
     ]
    },
    {
     "name": "stderr",
     "output_type": "stream",
     "text": [
      "\r",
      "  5%|▌         | 3/60 [00:45<14:25, 15.19s/it]"
     ]
    },
    {
     "name": "stdout",
     "output_type": "stream",
     "text": [
      "concentration = -5.700000000000001\n"
     ]
    },
    {
     "name": "stderr",
     "output_type": "stream",
     "text": [
      "\r",
      "  7%|▋         | 4/60 [00:59<13:50, 14.83s/it]"
     ]
    },
    {
     "name": "stdout",
     "output_type": "stream",
     "text": [
      "concentration = -5.600000000000001\n"
     ]
    },
    {
     "name": "stderr",
     "output_type": "stream",
     "text": [
      "\r",
      "  8%|▊         | 5/60 [01:13<13:21, 14.58s/it]"
     ]
    },
    {
     "name": "stdout",
     "output_type": "stream",
     "text": [
      "concentration = -5.500000000000002\n"
     ]
    },
    {
     "name": "stderr",
     "output_type": "stream",
     "text": [
      "\r",
      " 10%|█         | 6/60 [01:27<13:03, 14.50s/it]"
     ]
    },
    {
     "name": "stdout",
     "output_type": "stream",
     "text": [
      "concentration = -5.400000000000002\n"
     ]
    },
    {
     "name": "stderr",
     "output_type": "stream",
     "text": [
      "\r",
      " 12%|█▏        | 7/60 [01:41<12:38, 14.31s/it]"
     ]
    },
    {
     "name": "stdout",
     "output_type": "stream",
     "text": [
      "concentration = -5.3000000000000025\n"
     ]
    },
    {
     "name": "stderr",
     "output_type": "stream",
     "text": [
      "\r",
      " 13%|█▎        | 8/60 [01:55<12:20, 14.23s/it]"
     ]
    },
    {
     "name": "stdout",
     "output_type": "stream",
     "text": [
      "concentration = -5.200000000000003\n"
     ]
    },
    {
     "name": "stderr",
     "output_type": "stream",
     "text": [
      "\r",
      " 15%|█▌        | 9/60 [02:09<12:05, 14.23s/it]"
     ]
    },
    {
     "name": "stdout",
     "output_type": "stream",
     "text": [
      "concentration = -5.100000000000003\n"
     ]
    },
    {
     "name": "stderr",
     "output_type": "stream",
     "text": [
      "\r",
      " 17%|█▋        | 10/60 [02:23<11:51, 14.22s/it]"
     ]
    },
    {
     "name": "stdout",
     "output_type": "stream",
     "text": [
      "concentration = -5.0000000000000036\n"
     ]
    },
    {
     "name": "stderr",
     "output_type": "stream",
     "text": [
      "\r",
      " 18%|█▊        | 11/60 [02:38<11:37, 14.23s/it]"
     ]
    },
    {
     "name": "stdout",
     "output_type": "stream",
     "text": [
      "concentration = -4.900000000000004\n"
     ]
    },
    {
     "name": "stderr",
     "output_type": "stream",
     "text": [
      "\r",
      " 20%|██        | 12/60 [02:52<11:20, 14.19s/it]"
     ]
    },
    {
     "name": "stdout",
     "output_type": "stream",
     "text": [
      "concentration = -4.800000000000004\n"
     ]
    },
    {
     "name": "stderr",
     "output_type": "stream",
     "text": [
      "\r",
      " 22%|██▏       | 13/60 [03:06<11:08, 14.23s/it]"
     ]
    },
    {
     "name": "stdout",
     "output_type": "stream",
     "text": [
      "concentration = -4.700000000000005\n"
     ]
    },
    {
     "name": "stderr",
     "output_type": "stream",
     "text": [
      "\r",
      " 23%|██▎       | 14/60 [03:20<10:56, 14.28s/it]"
     ]
    },
    {
     "name": "stdout",
     "output_type": "stream",
     "text": [
      "concentration = -4.600000000000005\n"
     ]
    },
    {
     "name": "stderr",
     "output_type": "stream",
     "text": [
      "\r",
      " 25%|██▌       | 15/60 [03:35<10:45, 14.34s/it]"
     ]
    },
    {
     "name": "stdout",
     "output_type": "stream",
     "text": [
      "concentration = -4.500000000000005\n"
     ]
    },
    {
     "name": "stderr",
     "output_type": "stream",
     "text": [
      "\r",
      " 27%|██▋       | 16/60 [03:49<10:33, 14.39s/it]"
     ]
    },
    {
     "name": "stdout",
     "output_type": "stream",
     "text": [
      "concentration = -4.400000000000006\n"
     ]
    },
    {
     "name": "stderr",
     "output_type": "stream",
     "text": [
      "\r",
      " 28%|██▊       | 17/60 [04:04<10:19, 14.40s/it]"
     ]
    },
    {
     "name": "stdout",
     "output_type": "stream",
     "text": [
      "concentration = -4.300000000000006\n"
     ]
    },
    {
     "name": "stderr",
     "output_type": "stream",
     "text": [
      "\r",
      " 30%|███       | 18/60 [04:19<10:08, 14.48s/it]"
     ]
    },
    {
     "name": "stdout",
     "output_type": "stream",
     "text": [
      "concentration = -4.200000000000006\n"
     ]
    },
    {
     "name": "stderr",
     "output_type": "stream",
     "text": [
      "\r",
      " 32%|███▏      | 19/60 [04:33<09:55, 14.53s/it]"
     ]
    },
    {
     "name": "stdout",
     "output_type": "stream",
     "text": [
      "concentration = -4.100000000000007\n"
     ]
    },
    {
     "name": "stderr",
     "output_type": "stream",
     "text": [
      "\r",
      " 33%|███▎      | 20/60 [04:48<09:41, 14.53s/it]"
     ]
    },
    {
     "name": "stdout",
     "output_type": "stream",
     "text": [
      "concentration = -4.000000000000007\n"
     ]
    },
    {
     "name": "stderr",
     "output_type": "stream",
     "text": [
      "\r",
      " 35%|███▌      | 21/60 [05:03<09:31, 14.65s/it]"
     ]
    },
    {
     "name": "stdout",
     "output_type": "stream",
     "text": [
      "concentration = -3.9000000000000075\n"
     ]
    },
    {
     "name": "stderr",
     "output_type": "stream",
     "text": [
      "\r",
      " 37%|███▋      | 22/60 [05:17<09:17, 14.68s/it]"
     ]
    },
    {
     "name": "stdout",
     "output_type": "stream",
     "text": [
      "concentration = -3.800000000000008\n"
     ]
    },
    {
     "name": "stderr",
     "output_type": "stream",
     "text": [
      "\r",
      " 38%|███▊      | 23/60 [05:32<09:04, 14.72s/it]"
     ]
    },
    {
     "name": "stdout",
     "output_type": "stream",
     "text": [
      "concentration = -3.700000000000008\n"
     ]
    },
    {
     "name": "stderr",
     "output_type": "stream",
     "text": [
      "\r",
      " 40%|████      | 24/60 [05:47<08:55, 14.88s/it]"
     ]
    },
    {
     "name": "stdout",
     "output_type": "stream",
     "text": [
      "concentration = -3.6000000000000085\n"
     ]
    },
    {
     "name": "stderr",
     "output_type": "stream",
     "text": [
      "\r",
      " 42%|████▏     | 25/60 [06:02<08:42, 14.93s/it]"
     ]
    },
    {
     "name": "stdout",
     "output_type": "stream",
     "text": [
      "concentration = -3.500000000000009\n"
     ]
    },
    {
     "name": "stderr",
     "output_type": "stream",
     "text": [
      "\r",
      " 43%|████▎     | 26/60 [06:18<08:29, 14.99s/it]"
     ]
    },
    {
     "name": "stdout",
     "output_type": "stream",
     "text": [
      "concentration = -3.4000000000000092\n"
     ]
    },
    {
     "name": "stderr",
     "output_type": "stream",
     "text": [
      "\r",
      " 45%|████▌     | 27/60 [06:33<08:18, 15.12s/it]"
     ]
    },
    {
     "name": "stdout",
     "output_type": "stream",
     "text": [
      "concentration = -3.3000000000000096\n"
     ]
    },
    {
     "name": "stderr",
     "output_type": "stream",
     "text": [
      "\r",
      " 47%|████▋     | 28/60 [06:48<08:05, 15.17s/it]"
     ]
    },
    {
     "name": "stdout",
     "output_type": "stream",
     "text": [
      "concentration = -3.20000000000001\n"
     ]
    },
    {
     "name": "stderr",
     "output_type": "stream",
     "text": [
      "\r",
      " 48%|████▊     | 29/60 [07:04<07:53, 15.27s/it]"
     ]
    },
    {
     "name": "stdout",
     "output_type": "stream",
     "text": [
      "concentration = -3.1000000000000103\n"
     ]
    },
    {
     "name": "stderr",
     "output_type": "stream",
     "text": [
      "\r",
      " 50%|█████     | 30/60 [07:19<07:39, 15.32s/it]"
     ]
    },
    {
     "name": "stdout",
     "output_type": "stream",
     "text": [
      "concentration = -3.0000000000000107\n"
     ]
    },
    {
     "name": "stderr",
     "output_type": "stream",
     "text": [
      "\r",
      " 52%|█████▏    | 31/60 [07:35<07:27, 15.44s/it]"
     ]
    },
    {
     "name": "stdout",
     "output_type": "stream",
     "text": [
      "concentration = -2.900000000000011\n"
     ]
    },
    {
     "name": "stderr",
     "output_type": "stream",
     "text": [
      "\r",
      " 53%|█████▎    | 32/60 [07:51<07:16, 15.60s/it]"
     ]
    },
    {
     "name": "stdout",
     "output_type": "stream",
     "text": [
      "concentration = -2.8000000000000114\n"
     ]
    },
    {
     "name": "stderr",
     "output_type": "stream",
     "text": [
      "\r",
      " 55%|█████▌    | 33/60 [08:07<07:01, 15.63s/it]"
     ]
    },
    {
     "name": "stdout",
     "output_type": "stream",
     "text": [
      "concentration = -2.7000000000000117\n"
     ]
    },
    {
     "name": "stderr",
     "output_type": "stream",
     "text": [
      "\r",
      " 57%|█████▋    | 34/60 [08:23<06:49, 15.74s/it]"
     ]
    },
    {
     "name": "stdout",
     "output_type": "stream",
     "text": [
      "concentration = -2.600000000000012\n"
     ]
    },
    {
     "name": "stderr",
     "output_type": "stream",
     "text": [
      "\r",
      " 58%|█████▊    | 35/60 [08:39<06:34, 15.79s/it]"
     ]
    },
    {
     "name": "stdout",
     "output_type": "stream",
     "text": [
      "concentration = -2.5000000000000124\n"
     ]
    },
    {
     "name": "stderr",
     "output_type": "stream",
     "text": [
      "\r",
      " 60%|██████    | 36/60 [08:54<06:17, 15.75s/it]"
     ]
    },
    {
     "name": "stdout",
     "output_type": "stream",
     "text": [
      "concentration = -2.400000000000013\n"
     ]
    },
    {
     "name": "stderr",
     "output_type": "stream",
     "text": [
      "\r",
      " 62%|██████▏   | 37/60 [09:10<06:05, 15.90s/it]"
     ]
    },
    {
     "name": "stdout",
     "output_type": "stream",
     "text": [
      "concentration = -2.300000000000013\n"
     ]
    },
    {
     "name": "stderr",
     "output_type": "stream",
     "text": [
      "\r",
      " 63%|██████▎   | 38/60 [09:26<05:49, 15.91s/it]"
     ]
    },
    {
     "name": "stdout",
     "output_type": "stream",
     "text": [
      "concentration = -2.2000000000000135\n"
     ]
    },
    {
     "name": "stderr",
     "output_type": "stream",
     "text": [
      "\r",
      " 65%|██████▌   | 39/60 [09:43<05:39, 16.14s/it]"
     ]
    },
    {
     "name": "stdout",
     "output_type": "stream",
     "text": [
      "concentration = -2.100000000000014\n"
     ]
    },
    {
     "name": "stderr",
     "output_type": "stream",
     "text": [
      "\r",
      " 67%|██████▋   | 40/60 [10:00<05:28, 16.43s/it]"
     ]
    },
    {
     "name": "stdout",
     "output_type": "stream",
     "text": [
      "concentration = -2.000000000000014\n"
     ]
    },
    {
     "name": "stderr",
     "output_type": "stream",
     "text": [
      "\r",
      " 68%|██████▊   | 41/60 [10:17<05:16, 16.68s/it]"
     ]
    },
    {
     "name": "stdout",
     "output_type": "stream",
     "text": [
      "concentration = -1.9000000000000146\n"
     ]
    },
    {
     "name": "stderr",
     "output_type": "stream",
     "text": [
      "\r",
      " 70%|███████   | 42/60 [10:35<05:03, 16.88s/it]"
     ]
    },
    {
     "name": "stdout",
     "output_type": "stream",
     "text": [
      "concentration = -1.800000000000015\n"
     ]
    },
    {
     "name": "stderr",
     "output_type": "stream",
     "text": [
      "\r",
      " 72%|███████▏  | 43/60 [10:52<04:50, 17.08s/it]"
     ]
    },
    {
     "name": "stdout",
     "output_type": "stream",
     "text": [
      "concentration = -1.7000000000000153\n"
     ]
    },
    {
     "name": "stderr",
     "output_type": "stream",
     "text": [
      "\r",
      " 73%|███████▎  | 44/60 [11:10<04:34, 17.13s/it]"
     ]
    },
    {
     "name": "stdout",
     "output_type": "stream",
     "text": [
      "concentration = -1.6000000000000156\n"
     ]
    },
    {
     "name": "stderr",
     "output_type": "stream",
     "text": [
      "\r",
      " 75%|███████▌  | 45/60 [11:28<04:20, 17.39s/it]"
     ]
    },
    {
     "name": "stdout",
     "output_type": "stream",
     "text": [
      "concentration = -1.500000000000016\n"
     ]
    },
    {
     "name": "stderr",
     "output_type": "stream",
     "text": [
      "\r",
      " 77%|███████▋  | 46/60 [11:45<04:04, 17.48s/it]"
     ]
    },
    {
     "name": "stdout",
     "output_type": "stream",
     "text": [
      "concentration = -1.4000000000000163\n"
     ]
    },
    {
     "name": "stderr",
     "output_type": "stream",
     "text": [
      "\r",
      " 78%|███████▊  | 47/60 [12:02<03:45, 17.32s/it]"
     ]
    },
    {
     "name": "stdout",
     "output_type": "stream",
     "text": [
      "concentration = -1.3000000000000167\n"
     ]
    },
    {
     "name": "stderr",
     "output_type": "stream",
     "text": [
      "\r",
      " 80%|████████  | 48/60 [12:19<03:26, 17.22s/it]"
     ]
    },
    {
     "name": "stdout",
     "output_type": "stream",
     "text": [
      "concentration = -1.200000000000017\n"
     ]
    },
    {
     "name": "stderr",
     "output_type": "stream",
     "text": [
      "\r",
      " 82%|████████▏ | 49/60 [12:36<03:09, 17.23s/it]"
     ]
    },
    {
     "name": "stdout",
     "output_type": "stream",
     "text": [
      "concentration = -1.1000000000000174\n"
     ]
    },
    {
     "name": "stderr",
     "output_type": "stream",
     "text": [
      "\r",
      " 83%|████████▎ | 50/60 [12:54<02:53, 17.33s/it]"
     ]
    },
    {
     "name": "stdout",
     "output_type": "stream",
     "text": [
      "concentration = -1.0000000000000178\n"
     ]
    },
    {
     "name": "stderr",
     "output_type": "stream",
     "text": [
      "\r",
      " 85%|████████▌ | 51/60 [13:12<02:36, 17.44s/it]"
     ]
    },
    {
     "name": "stdout",
     "output_type": "stream",
     "text": [
      "concentration = -0.9000000000000181\n"
     ]
    },
    {
     "name": "stderr",
     "output_type": "stream",
     "text": [
      "\r",
      " 87%|████████▋ | 52/60 [13:29<02:19, 17.40s/it]"
     ]
    },
    {
     "name": "stdout",
     "output_type": "stream",
     "text": [
      "concentration = -0.8000000000000185\n"
     ]
    },
    {
     "name": "stderr",
     "output_type": "stream",
     "text": [
      "\r",
      " 88%|████████▊ | 53/60 [13:47<02:02, 17.50s/it]"
     ]
    },
    {
     "name": "stdout",
     "output_type": "stream",
     "text": [
      "concentration = -0.7000000000000188\n"
     ]
    },
    {
     "name": "stderr",
     "output_type": "stream",
     "text": [
      "\r",
      " 90%|█████████ | 54/60 [14:04<01:45, 17.56s/it]"
     ]
    },
    {
     "name": "stdout",
     "output_type": "stream",
     "text": [
      "concentration = -0.6000000000000192\n"
     ]
    },
    {
     "name": "stderr",
     "output_type": "stream",
     "text": [
      "\r",
      " 92%|█████████▏| 55/60 [14:22<01:28, 17.70s/it]"
     ]
    },
    {
     "name": "stdout",
     "output_type": "stream",
     "text": [
      "concentration = -0.5000000000000195\n"
     ]
    },
    {
     "name": "stderr",
     "output_type": "stream",
     "text": [
      "\r",
      " 93%|█████████▎| 56/60 [14:41<01:11, 17.82s/it]"
     ]
    },
    {
     "name": "stdout",
     "output_type": "stream",
     "text": [
      "concentration = -0.4000000000000199\n"
     ]
    },
    {
     "name": "stderr",
     "output_type": "stream",
     "text": [
      "\r",
      " 95%|█████████▌| 57/60 [15:00<00:54, 18.28s/it]"
     ]
    },
    {
     "name": "stdout",
     "output_type": "stream",
     "text": [
      "concentration = -0.30000000000002025\n"
     ]
    },
    {
     "name": "stderr",
     "output_type": "stream",
     "text": [
      "\r",
      " 97%|█████████▋| 58/60 [15:19<00:36, 18.44s/it]"
     ]
    },
    {
     "name": "stdout",
     "output_type": "stream",
     "text": [
      "concentration = -0.2000000000000206\n"
     ]
    },
    {
     "name": "stderr",
     "output_type": "stream",
     "text": [
      "\r",
      " 98%|█████████▊| 59/60 [15:38<00:18, 18.54s/it]"
     ]
    },
    {
     "name": "stdout",
     "output_type": "stream",
     "text": [
      "concentration = -0.10000000000002096\n"
     ]
    },
    {
     "name": "stderr",
     "output_type": "stream",
     "text": [
      "100%|██████████| 60/60 [15:56<00:00, 18.54s/it]\n"
     ]
    }
   ],
   "source": [
    "calculation = True\n",
    "df = pd.DataFrame()\n",
    "concentrations = np.arange(-6, 0, 0.1)\n",
    "if calculation:\n",
    "    for concentration in tqdm(concentrations):\n",
    "        for name in names:\n",
    "            directional_flux, intersurface_flux, driven_flux = summarize_fluxes(name, concentration=10**concentration,\n",
    "                                                                               data_source='adk_md_data',\n",
    "                                                                               catalytic_rate=10) \n",
    "            df = df.append(pd.DataFrame({'Concentration': concentration,\n",
    "                                    'Directional flux': directional_flux,\n",
    "                                    'Intersurface flux': intersurface_flux,\n",
    "                                    'Driven flux': driven_flux,\n",
    "                                    'File': name,\n",
    "                                    'ResID': re.match('.*?([0-9]+)$', name).group(1),\n",
    "                                    }, index=[0]), ignore_index=True)\n",
    "\n",
    "    df.to_pickle('adk-low-catalytic-rate-10.pickle')"
   ]
  },
  {
   "cell_type": "code",
   "execution_count": null,
   "metadata": {
    "collapsed": true
   },
   "outputs": [],
   "source": []
  }
 ],
 "metadata": {
  "anaconda-cloud": {},
  "kernelspec": {
   "display_name": "Python 3",
   "language": "python",
   "name": "python3"
  },
  "language_info": {
   "codemirror_mode": {
    "name": "ipython",
    "version": 3
   },
   "file_extension": ".py",
   "mimetype": "text/x-python",
   "name": "python",
   "nbconvert_exporter": "python",
   "pygments_lexer": "ipython3",
   "version": "3.6.0"
  }
 },
 "nbformat": 4,
 "nbformat_minor": 0
}
