{
 "cells": [
  {
   "cell_type": "code",
   "execution_count": 1,
   "metadata": {
    "collapsed": true
   },
   "outputs": [],
   "source": [
    "from simulation import *\n",
    "from aesthetics import *\n",
    "from models import *\n",
    "from data import *\n",
    "\n",
    "import glob\n",
    "import os as os\n",
    "import re as re\n",
    "import pandas as pd\n",
    "\n",
    "%reload_ext autoreload\n",
    "%autoreload 2\n",
    "%matplotlib inline\n",
    "mpl.rc('text', usetex=True)"
   ]
  },
  {
   "cell_type": "code",
   "execution_count": 4,
   "metadata": {
    "collapsed": false
   },
   "outputs": [],
   "source": [
    "from analysis import *"
   ]
  },
  {
   "cell_type": "code",
   "execution_count": 2,
   "metadata": {
    "collapsed": true
   },
   "outputs": [],
   "source": [
    "adk_dir = '../../md-data/adenylate-kinase/'\n",
    "adk_unbound_files = sorted(glob.glob(adk_dir + 'AdKDihedHist_apo-4ake/' + '*'))\n",
    "names = []\n",
    "for file in range(len(adk_unbound_files)):\n",
    "    name = os.path.splitext(os.path.basename(adk_unbound_files[file]))[0]\n",
    "    name = re.search('^[^_]*', name).group(0)        \n",
    "    if re.search('omega*', name):\n",
    "        continue\n",
    "    if re.search('chi3ASN*', name):\n",
    "        continue\n",
    "    if re.search('chi5LYS*', name):\n",
    "        continue\n",
    "    names.append(name)"
   ]
  },
  {
   "cell_type": "code",
   "execution_count": 27,
   "metadata": {
    "collapsed": false
   },
   "outputs": [
    {
     "data": {
      "text/plain": [
       "(-0.94685476234262589, 56.229802869953843, 222.30749006848782)"
      ]
     },
     "execution_count": 27,
     "metadata": {},
     "output_type": "execute_result"
    }
   ],
   "source": [
    "summarize_fluxes(name = 'chi1PHE109', concentration=1e-3)"
   ]
  },
  {
   "cell_type": "code",
   "execution_count": 51,
   "metadata": {
    "collapsed": false
   },
   "outputs": [
    {
     "name": "stdout",
     "output_type": "stream",
     "text": [
      "0.0217669826864\n",
      "0.0123473558764\n",
      "0.0685858820798\n"
     ]
    }
   ],
   "source": [
    "this = simulation(data_source='adk_md_data')\n",
    "this.name = 'psiSER41'\n",
    "this.cSubstrate = 1e-6\n",
    "this.simulate()\n",
    "print(np.mean(this.flux_u + this.flux_b))\n",
    "print(max(abs(this.flux_ub)))\n",
    "print( np.hstack((abs(this.flux_u), abs(this.flux_b))).max())"
   ]
  },
  {
   "cell_type": "code",
   "execution_count": 56,
   "metadata": {
    "collapsed": false,
    "scrolled": true
   },
   "outputs": [
    {
     "name": "stdout",
     "output_type": "stream",
     "text": [
      "Looks good. Maximum power = 8.47761965598524 at index [9] with load = [ 0.9]\n"
     ]
    },
    {
     "name": "stderr",
     "output_type": "stream",
     "text": [
      "/mnt/639f049e-1c5c-4215-bb93-e396da93aa2b/projects/nonequilibrium/code/SG-model-v2/simulation.py:317: ComplexWarning: Casting complex values to real discards the imaginary part\n",
      "  ss = abs(eigenvectors[:, self.eigenvalues.argmax()].astype(float))\n"
     ]
    }
   ],
   "source": [
    "summarize_power_and_load(name = 'psiSER41', concentration = 1e-3, negative=False)"
   ]
  },
  {
   "cell_type": "markdown",
   "metadata": {},
   "source": [
    "Okay, so the obvious question is: why isn't this working? I can't find a maximum power for this angle by scanning in the range (0, 0.001, 0.0001) either negative or positive. Maybe I need to expand the range? No, that doesn't work either.\n",
    "\n",
    "Do we actually know the maximum load that this angle can support? Aha, we do. It's huge -- over 1.0.\n",
    "\n",
    "Alright, so if I scan in the range (0, 2, 0.1) then I *do* find the correct maximum power for this angle. Hmm.\n",
    "\n",
    "But now what if I keep this increased range and try another angle. The known maximum load for `chi1PHE109` can support is -0.000311 with maximum power of 0.000046 at that load."
   ]
  },
  {
   "cell_type": "code",
   "execution_count": 60,
   "metadata": {
    "collapsed": false
   },
   "outputs": [
    {
     "name": "stdout",
     "output_type": "stream",
     "text": [
      "Testing loads from 0.0 to 1.9000000000000001 by 0.1\n"
     ]
    },
    {
     "name": "stderr",
     "output_type": "stream",
     "text": [
      "/mnt/639f049e-1c5c-4215-bb93-e396da93aa2b/projects/nonequilibrium/code/SG-model-v2/simulation.py:317: ComplexWarning: Casting complex values to real discards the imaginary part\n",
      "  ss = abs(eigenvectors[:, self.eigenvalues.argmax()].astype(float))\n"
     ]
    },
    {
     "name": "stdout",
     "output_type": "stream",
     "text": [
      "Looks good. Maximum power = 0.04629956626465328 at index [1] with load = [ 0.1]\n",
      "Testing loads from 0.0 to 1.9000000000000001 by 0.1\n",
      "Looks good. Maximum power = 0.04629956626465328 at index [1] with load = [ 0.1]\n",
      "Testing loads from 0.0 to 1.9000000000000001 by 0.1\n",
      "Looks good. Maximum power = 0.04629956626465328 at index [1] with load = [ 0.1]\n",
      "Testing loads from 0.0 to 1.9000000000000001 by 0.1\n",
      "Looks good. Maximum power = 0.04629956626465328 at index [1] with load = [ 0.1]\n",
      "1 loop, best of 3: 280 ms per loop\n"
     ]
    }
   ],
   "source": [
    "%timeit summarize_power_and_load(name = 'chi1PHE109', concentration = 1e-3, negative=True)"
   ]
  },
  {
   "cell_type": "markdown",
   "metadata": {},
   "source": [
    "This is reasonable, but we really overestimate the maximum power. In order to capture a good value for the maximum power for each angle, I'll probably need to go up to +/- 2 and scan loads with the resolution of about 0.0001."
   ]
  },
  {
   "cell_type": "code",
   "execution_count": 61,
   "metadata": {
    "collapsed": false
   },
   "outputs": [
    {
     "name": "stdout",
     "output_type": "stream",
     "text": [
      "Testing loads from 0.0 to 2.0 by 0.0\n"
     ]
    },
    {
     "name": "stderr",
     "output_type": "stream",
     "text": [
      "/mnt/639f049e-1c5c-4215-bb93-e396da93aa2b/projects/nonequilibrium/code/SG-model-v2/simulation.py:317: ComplexWarning: Casting complex values to real discards the imaginary part\n",
      "  ss = abs(eigenvectors[:, self.eigenvalues.argmax()].astype(float))\n"
     ]
    },
    {
     "name": "stdout",
     "output_type": "stream",
     "text": [
      "Looks good. Maximum power = 0.04680183746016732 at index [92] with load = [ 0.092]\n",
      "Testing loads from 0.0 to 2.0 by 0.0\n",
      "Looks good. Maximum power = 0.04696959731525625 at index [95] with load = [ 0.095]\n",
      "Testing loads from 0.0 to 2.0 by 0.0\n",
      "Looks good. Maximum power = 0.04696959731525625 at index [95] with load = [ 0.095]\n",
      "Testing loads from 0.0 to 2.0 by 0.0\n",
      "Looks good. Maximum power = 0.04696959731525625 at index [95] with load = [ 0.095]\n",
      "1 loop, best of 3: 26.9 s per loop\n"
     ]
    }
   ],
   "source": [
    "%timeit summarize_power_and_load(name = 'chi1PHE109', concentration = 1e-3, negative=True)"
   ]
  },
  {
   "cell_type": "markdown",
   "metadata": {},
   "source": [
    "Okay, so this gives about 30 seconds per loop and it didn't actually get closer to \"optimized\" estimate. I realize that the load is not small enough. If I drop the load another factor of 10..."
   ]
  },
  {
   "cell_type": "code",
   "execution_count": 62,
   "metadata": {
    "collapsed": false
   },
   "outputs": [
    {
     "name": "stdout",
     "output_type": "stream",
     "text": [
      "Testing loads from 0.0 to 1.9999 by 0.0001\n"
     ]
    },
    {
     "name": "stderr",
     "output_type": "stream",
     "text": [
      "/mnt/639f049e-1c5c-4215-bb93-e396da93aa2b/projects/nonequilibrium/code/SG-model-v2/simulation.py:317: ComplexWarning: Casting complex values to real discards the imaginary part\n",
      "  ss = abs(eigenvectors[:, self.eigenvalues.argmax()].astype(float))\n"
     ]
    },
    {
     "name": "stdout",
     "output_type": "stream",
     "text": [
      "Looks good. Maximum power = 0.04717006583563354 at index [1005] with load = [ 0.1005]\n",
      "CPU times: user 26min 33s, sys: 37.2 s, total: 27min 10s\n",
      "Wall time: 4min 31s\n"
     ]
    }
   ],
   "source": [
    "%time summarize_power_and_load(name = 'chi1PHE109', concentration = 1e-3, negative=True)"
   ]
  },
  {
   "cell_type": "markdown",
   "metadata": {},
   "source": [
    "Okay this is going to take too long, so I can already tell we need tobe a little more clever. Somehow checking if the maximum keeps increasing... and stop when the maximum starts to decrease. \n",
    "\n",
    "Alright, I think I've got a good thing going now."
   ]
  },
  {
   "cell_type": "code",
   "execution_count": 65,
   "metadata": {
    "collapsed": false
   },
   "outputs": [
    {
     "name": "stdout",
     "output_type": "stream",
     "text": [
      "Looks good. Maximum power = 0.04355866030598664 with load = -0.1211\n",
      "CPU times: user 9.07 s, sys: 235 ms, total: 9.3 s\n",
      "Wall time: 1.56 s\n"
     ]
    }
   ],
   "source": [
    "%time summarize_power_and_load(name = 'chi1PHE109', concentration = 1e-3, negative=True)"
   ]
  },
  {
   "cell_type": "code",
   "execution_count": 67,
   "metadata": {
    "collapsed": false
   },
   "outputs": [
    {
     "name": "stdout",
     "output_type": "stream",
     "text": [
      "Looks good. Maximum power = 8.146089770454653 with load = 1.1211\n",
      "CPU times: user 8.67 s, sys: 227 ms, total: 8.9 s\n",
      "Wall time: 1.49 s\n"
     ]
    },
    {
     "name": "stderr",
     "output_type": "stream",
     "text": [
      "/mnt/639f049e-1c5c-4215-bb93-e396da93aa2b/projects/nonequilibrium/code/SG-model-v2/simulation.py:317: ComplexWarning: Casting complex values to real discards the imaginary part\n",
      "  ss = abs(eigenvectors[:, self.eigenvalues.argmax()].astype(float))\n"
     ]
    }
   ],
   "source": [
    "%time summarize_power_and_load(name = 'psiSER41', concentration = 1e-3, negative=False)"
   ]
  },
  {
   "cell_type": "code",
   "execution_count": 68,
   "metadata": {
    "collapsed": false
   },
   "outputs": [
    {
     "data": {
      "text/plain": [
       "'phiARG156'"
      ]
     },
     "execution_count": 68,
     "metadata": {},
     "output_type": "execute_result"
    }
   ],
   "source": [
    "names[500]"
   ]
  },
  {
   "cell_type": "code",
   "execution_count": 69,
   "metadata": {
    "collapsed": false
   },
   "outputs": [
    {
     "name": "stdout",
     "output_type": "stream",
     "text": [
      "Looks good. Maximum power = 1.1329716863104493e-05 with load = 0.0010000000000000002\n",
      "CPU times: user 999 ms, sys: 31 ms, total: 1.03 s\n",
      "Wall time: 191 ms\n"
     ]
    }
   ],
   "source": [
    "%time summarize_power_and_load(name = 'phiARG156', concentration = 1e-3, negative=False)"
   ]
  },
  {
   "cell_type": "markdown",
   "metadata": {},
   "source": [
    "Let's just do a little manual spot check here."
   ]
  },
  {
   "cell_type": "code",
   "execution_count": 81,
   "metadata": {
    "collapsed": false
   },
   "outputs": [
    {
     "name": "stdout",
     "output_type": "stream",
     "text": [
      "  0.000000\t -0.000000\n",
      "  0.000100\t  0.000004\n",
      "  0.000200\t -0.000000\n",
      "  0.000300\t -0.000001\n",
      "  0.000400\t  0.000003\n",
      "  0.000500\t  0.000001\n",
      "  0.000600\t  0.000001\n",
      "  0.000700\t -0.000010\n",
      "  0.000800\t -0.000004\n",
      "  0.000900\t  0.000000\n",
      "  0.001000\t  0.000011\n",
      "  0.001100\t  0.000004\n",
      "  0.001200\t -0.000023\n",
      "  0.001300\t -0.000014\n",
      "  0.001400\t -0.000003\n",
      "  0.001500\t  0.000036\n",
      "  0.001600\t -0.000017\n",
      "  0.001700\t -0.000002\n",
      "  0.001800\t  0.000004\n",
      "  0.001900\t  0.000005\n"
     ]
    },
    {
     "data": {
      "text/plain": [
       "(1e-06, 2e-05)"
      ]
     },
     "execution_count": 81,
     "metadata": {},
     "output_type": "execute_result"
    },
    {
     "data": {
      "image/png": "[encoded data removed]",
      "text/plain": [
       "<matplotlib.figure.Figure at 0x7f7ad01d0518>"
      ]
     },
     "metadata": {},
     "output_type": "display_data"
    }
   ],
   "source": [
    "for slope in np.arange(0, 0.002, 0.0001):\n",
    "    this = simulation(data_source='adk_md_data')\n",
    "    this.name = 'phiARG156'\n",
    "    this.cSubstrate = 1e-3\n",
    "    this.load = True\n",
    "    this.load_slope = slope\n",
    "    this.simulate()\n",
    "    print('{:10f}\\t{:10f}'.format(slope, this.load_slope * np.mean(this.flux_u + this.flux_b)))\n",
    "    plt.scatter(this.load_slope, this.load_slope * np.mean(this.flux_u + this.flux_b))\n",
    "plt.ylabel('Power')\n",
    "plt.xlabel('Load')\n",
    "plt.ylim([1e-6, 2e-5])"
   ]
  },
  {
   "cell_type": "markdown",
   "metadata": {},
   "source": [
    "Okay, looks good to me."
   ]
  },
  {
   "cell_type": "code",
   "execution_count": null,
   "metadata": {
    "collapsed": true
   },
   "outputs": [],
   "source": []
  }
 ],
 "metadata": {
  "anaconda-cloud": {},
  "kernelspec": {
   "display_name": "Python [Root]",
   "language": "python",
   "name": "Python [Root]"
  },
  "language_info": {
   "codemirror_mode": {
    "name": "ipython",
    "version": 3
   },
   "file_extension": ".py",
   "mimetype": "text/x-python",
   "name": "python",
   "nbconvert_exporter": "python",
   "pygments_lexer": "ipython3",
   "version": "3.5.1"
  }
 },
 "nbformat": 4,
 "nbformat_minor": 0
}
