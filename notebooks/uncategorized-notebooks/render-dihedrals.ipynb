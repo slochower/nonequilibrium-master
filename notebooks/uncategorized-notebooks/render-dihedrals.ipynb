{
 "cells": [
  {
   "cell_type": "markdown",
   "metadata": {},
   "source": [
    "# Ideas\n",
    "- Align `latex` picture and text using `raisebox`\n",
    "- For phi and psi and omega, build the angle with a glycine on either side, this would also require specifiying which residue the atoms belong to. LUckily, this information is in the perl script already.\n",
    "- Call `latex` automatically with `rubber --clean foo.tex`.\n",
    "- Use `openeye` python toolkit to render these angles, mayb.e"
   ]
  },
  {
   "cell_type": "code",
   "execution_count": 40,
   "metadata": {
    "collapsed": false
   },
   "outputs": [],
   "source": [
    "import pandas as pd\n",
    "import subprocess as sp\n",
    "import os as os\n",
    "# os.chdir('render-dihedrals/')"
   ]
  },
  {
   "cell_type": "code",
   "execution_count": 41,
   "metadata": {
    "collapsed": true
   },
   "outputs": [],
   "source": [
    "dihedrals = pd.DataFrame()"
   ]
  },
  {
   "cell_type": "code",
   "execution_count": 42,
   "metadata": {
    "collapsed": false
   },
   "outputs": [],
   "source": [
    "dihedrals = pd.read_csv('dihedlist.dat', sep='\\s+', header=None, names=['Res', 'Angle', '1', '2', '3', '4'])"
   ]
  },
  {
   "cell_type": "code",
   "execution_count": 43,
   "metadata": {
    "collapsed": false
   },
   "outputs": [],
   "source": [
    "d = {'CYS': 'C', 'ASP': 'D', 'SER': 'S', 'GLN': 'Q', 'LYS': 'K',\n",
    "     'ILE': 'I', 'PRO': 'P', 'THR': 'T', 'PHE': 'F', 'ASN': 'N', \n",
    "     'GLY': 'G', 'HIS': 'H', 'LEU': 'L', 'ARG': 'R', 'TRP': 'W', \n",
    "     'ALA': 'A', 'VAL':'V', 'GLU': 'E', 'TYR': 'Y', 'MET': 'M'}"
   ]
  },
  {
   "cell_type": "code",
   "execution_count": 44,
   "metadata": {
    "collapsed": false
   },
   "outputs": [],
   "source": [
    "def write_input(atom_one, atom_two, atom_three, atom_four, residue, label):\n",
    "    template ='''\n",
    "from BuildStructure import placePeptide\n",
    "from chimera import runCommand as rc\n",
    "aa = \"{0}\"\n",
    "\n",
    "# Build a sequence\n",
    "placePeptide(aa, [(-50, 70)] * len(aa), model=\"peptide\")\n",
    "# Add hydrogens automatically\n",
    "rc(\"addh\")\n",
    "# Align so the CA-CB bond is going into the page\n",
    "rc(\"align @CA @N\")\n",
    "rc(\"set fieldOfView 14.5227\")\n",
    "# rc(\"set scale 1.0\")\n",
    "rc(\"set projection orthographic\")\n",
    "rc(\"windowsize 800 600\")\n",
    "# Color and highlight\n",
    "rc(\"color grey\")\n",
    "rc(\"repr stick\")\n",
    "rc(\"shape sphere radius 0.5 center @{1} color red\")\n",
    "rc(\"shape sphere radius 0.5 center @{2} color blue\")\n",
    "rc(\"shape sphere radius 0.5 center @{3} color green\")\n",
    "rc(\"shape sphere radius 0.5 center @{4} color orange\")\n",
    "# Save\n",
    "rc(\"copy file {5}.png supersample 3\")\n",
    "# rc(\"close all\")\n",
    "'''.format(d[residue], atom_one, atom_two, atom_three, atom_four, label)\n",
    "    return template"
   ]
  },
  {
   "cell_type": "code",
   "execution_count": 45,
   "metadata": {
    "collapsed": false
   },
   "outputs": [],
   "source": [
    "def render(file):\n",
    "    sp.call('chimera-headless --script {}'.format(file), shell=True)"
   ]
  },
  {
   "cell_type": "code",
   "execution_count": 46,
   "metadata": {
    "collapsed": false
   },
   "outputs": [
    {
     "ename": "KeyboardInterrupt",
     "evalue": "",
     "output_type": "error",
     "traceback": [
      "\u001b[1;31m---------------------------------------------------------------------------\u001b[0m",
      "\u001b[1;31mKeyboardInterrupt\u001b[0m                         Traceback (most recent call last)",
      "\u001b[1;32m<ipython-input-46-5fca1a3df8e4>\u001b[0m in \u001b[0;36m<module>\u001b[1;34m()\u001b[0m\n\u001b[0;32m     10\u001b[0m     \u001b[0mchimera_file\u001b[0m\u001b[1;33m.\u001b[0m\u001b[0mwrite\u001b[0m\u001b[1;33m(\u001b[0m\u001b[0mstring\u001b[0m\u001b[1;33m)\u001b[0m\u001b[1;33m\u001b[0m\u001b[0m\n\u001b[0;32m     11\u001b[0m     \u001b[0mchimera_file\u001b[0m\u001b[1;33m.\u001b[0m\u001b[0mclose\u001b[0m\u001b[1;33m(\u001b[0m\u001b[1;33m)\u001b[0m\u001b[1;33m\u001b[0m\u001b[0m\n\u001b[1;32m---> 12\u001b[1;33m     \u001b[0mrender\u001b[0m\u001b[1;33m(\u001b[0m\u001b[1;34m'tmp.py'\u001b[0m\u001b[1;33m)\u001b[0m\u001b[1;33m\u001b[0m\u001b[0m\n\u001b[0m",
      "\u001b[1;32m<ipython-input-45-813f5ca77aa1>\u001b[0m in \u001b[0;36mrender\u001b[1;34m(file)\u001b[0m\n\u001b[0;32m      1\u001b[0m \u001b[1;32mdef\u001b[0m \u001b[0mrender\u001b[0m\u001b[1;33m(\u001b[0m\u001b[0mfile\u001b[0m\u001b[1;33m)\u001b[0m\u001b[1;33m:\u001b[0m\u001b[1;33m\u001b[0m\u001b[0m\n\u001b[1;32m----> 2\u001b[1;33m     \u001b[0msp\u001b[0m\u001b[1;33m.\u001b[0m\u001b[0mcall\u001b[0m\u001b[1;33m(\u001b[0m\u001b[1;34m'chimera-headless --script {}'\u001b[0m\u001b[1;33m.\u001b[0m\u001b[0mformat\u001b[0m\u001b[1;33m(\u001b[0m\u001b[0mfile\u001b[0m\u001b[1;33m)\u001b[0m\u001b[1;33m,\u001b[0m \u001b[0mshell\u001b[0m\u001b[1;33m=\u001b[0m\u001b[1;32mTrue\u001b[0m\u001b[1;33m)\u001b[0m\u001b[1;33m\u001b[0m\u001b[0m\n\u001b[0m",
      "\u001b[1;32m/home/dslochower/anaconda3/lib/python3.5/subprocess.py\u001b[0m in \u001b[0;36mcall\u001b[1;34m(timeout, *popenargs, **kwargs)\u001b[0m\n\u001b[0;32m    560\u001b[0m     \u001b[1;32mwith\u001b[0m \u001b[0mPopen\u001b[0m\u001b[1;33m(\u001b[0m\u001b[1;33m*\u001b[0m\u001b[0mpopenargs\u001b[0m\u001b[1;33m,\u001b[0m \u001b[1;33m**\u001b[0m\u001b[0mkwargs\u001b[0m\u001b[1;33m)\u001b[0m \u001b[1;32mas\u001b[0m \u001b[0mp\u001b[0m\u001b[1;33m:\u001b[0m\u001b[1;33m\u001b[0m\u001b[0m\n\u001b[0;32m    561\u001b[0m         \u001b[1;32mtry\u001b[0m\u001b[1;33m:\u001b[0m\u001b[1;33m\u001b[0m\u001b[0m\n\u001b[1;32m--> 562\u001b[1;33m             \u001b[1;32mreturn\u001b[0m \u001b[0mp\u001b[0m\u001b[1;33m.\u001b[0m\u001b[0mwait\u001b[0m\u001b[1;33m(\u001b[0m\u001b[0mtimeout\u001b[0m\u001b[1;33m=\u001b[0m\u001b[0mtimeout\u001b[0m\u001b[1;33m)\u001b[0m\u001b[1;33m\u001b[0m\u001b[0m\n\u001b[0m\u001b[0;32m    563\u001b[0m         \u001b[1;32mexcept\u001b[0m\u001b[1;33m:\u001b[0m\u001b[1;33m\u001b[0m\u001b[0m\n\u001b[0;32m    564\u001b[0m             \u001b[0mp\u001b[0m\u001b[1;33m.\u001b[0m\u001b[0mkill\u001b[0m\u001b[1;33m(\u001b[0m\u001b[1;33m)\u001b[0m\u001b[1;33m\u001b[0m\u001b[0m\n",
      "\u001b[1;32m/home/dslochower/anaconda3/lib/python3.5/subprocess.py\u001b[0m in \u001b[0;36mwait\u001b[1;34m(self, timeout, endtime)\u001b[0m\n\u001b[0;32m   1649\u001b[0m                         \u001b[1;32mif\u001b[0m \u001b[0mself\u001b[0m\u001b[1;33m.\u001b[0m\u001b[0mreturncode\u001b[0m \u001b[1;32mis\u001b[0m \u001b[1;32mnot\u001b[0m \u001b[1;32mNone\u001b[0m\u001b[1;33m:\u001b[0m\u001b[1;33m\u001b[0m\u001b[0m\n\u001b[0;32m   1650\u001b[0m                             \u001b[1;32mbreak\u001b[0m  \u001b[1;31m# Another thread waited.\u001b[0m\u001b[1;33m\u001b[0m\u001b[0m\n\u001b[1;32m-> 1651\u001b[1;33m                         \u001b[1;33m(\u001b[0m\u001b[0mpid\u001b[0m\u001b[1;33m,\u001b[0m \u001b[0msts\u001b[0m\u001b[1;33m)\u001b[0m \u001b[1;33m=\u001b[0m \u001b[0mself\u001b[0m\u001b[1;33m.\u001b[0m\u001b[0m_try_wait\u001b[0m\u001b[1;33m(\u001b[0m\u001b[1;36m0\u001b[0m\u001b[1;33m)\u001b[0m\u001b[1;33m\u001b[0m\u001b[0m\n\u001b[0m\u001b[0;32m   1652\u001b[0m                         \u001b[1;31m# Check the pid and loop as waitpid has been known to\u001b[0m\u001b[1;33m\u001b[0m\u001b[1;33m\u001b[0m\u001b[0m\n\u001b[0;32m   1653\u001b[0m                         \u001b[1;31m# return 0 even without WNOHANG in odd situations.\u001b[0m\u001b[1;33m\u001b[0m\u001b[1;33m\u001b[0m\u001b[0m\n",
      "\u001b[1;32m/home/dslochower/anaconda3/lib/python3.5/subprocess.py\u001b[0m in \u001b[0;36m_try_wait\u001b[1;34m(self, wait_flags)\u001b[0m\n\u001b[0;32m   1599\u001b[0m             \u001b[1;34m\"\"\"All callers to this function MUST hold self._waitpid_lock.\"\"\"\u001b[0m\u001b[1;33m\u001b[0m\u001b[0m\n\u001b[0;32m   1600\u001b[0m             \u001b[1;32mtry\u001b[0m\u001b[1;33m:\u001b[0m\u001b[1;33m\u001b[0m\u001b[0m\n\u001b[1;32m-> 1601\u001b[1;33m                 \u001b[1;33m(\u001b[0m\u001b[0mpid\u001b[0m\u001b[1;33m,\u001b[0m \u001b[0msts\u001b[0m\u001b[1;33m)\u001b[0m \u001b[1;33m=\u001b[0m \u001b[0mos\u001b[0m\u001b[1;33m.\u001b[0m\u001b[0mwaitpid\u001b[0m\u001b[1;33m(\u001b[0m\u001b[0mself\u001b[0m\u001b[1;33m.\u001b[0m\u001b[0mpid\u001b[0m\u001b[1;33m,\u001b[0m \u001b[0mwait_flags\u001b[0m\u001b[1;33m)\u001b[0m\u001b[1;33m\u001b[0m\u001b[0m\n\u001b[0m\u001b[0;32m   1602\u001b[0m             \u001b[1;32mexcept\u001b[0m \u001b[0mChildProcessError\u001b[0m\u001b[1;33m:\u001b[0m\u001b[1;33m\u001b[0m\u001b[0m\n\u001b[0;32m   1603\u001b[0m                 \u001b[1;31m# This happens if SIGCLD is set to be ignored or waiting\u001b[0m\u001b[1;33m\u001b[0m\u001b[1;33m\u001b[0m\u001b[0m\n",
      "\u001b[1;31mKeyboardInterrupt\u001b[0m: "
     ]
    }
   ],
   "source": [
    "for angle in range(len(dihedrals)):\n",
    "    atom_one = dihedrals['1'][angle]\n",
    "    atom_two = dihedrals['2'][angle]\n",
    "    atom_three = dihedrals['3'][angle]\n",
    "    atom_four = dihedrals['4'][angle]\n",
    "    residue = dihedrals['Res'][angle]\n",
    "    label = residue + '-' + dihedrals['Angle'][angle]\n",
    "    string = write_input(atom_one, atom_two, atom_three, atom_four, residue, label)\n",
    "    chimera_file = open(\"tmp.py\", \"w\")\n",
    "    chimera_file.write(string)\n",
    "    chimera_file.close()\n",
    "    render('tmp.py')"
   ]
  },
  {
   "cell_type": "code",
   "execution_count": null,
   "metadata": {
    "collapsed": false
   },
   "outputs": [],
   "source": [
    "def print_latex(residue, angle, atom_one, atom_two, atom_three, atom_four, figure):\n",
    "    if angle == 'chi1':\n",
    "        angle = 'chi_1'\n",
    "    elif angle == 'chi2':\n",
    "        angle = 'chi_2'\n",
    "    elif angle == 'chi3':\n",
    "        angle = 'chi_3'\n",
    "    elif angle == 'chi4':\n",
    "        angle = 'chi_4'\n",
    "    elif angle == 'chi5':\n",
    "        angle = 'chi_5'\n",
    "    print('{} & $\\{}$ & {} & {} & {} & {} & \\includegraphics[height=1in]{{{}.png}} \\\\\\\\'.format(residue, angle,\n",
    "                                                                             atom_one, atom_two, atom_three, atom_four, figure))"
   ]
  },
  {
   "cell_type": "code",
   "execution_count": null,
   "metadata": {
    "collapsed": false
   },
   "outputs": [],
   "source": [
    "for row in range(len(dihedrals)):\n",
    "    print_latex(dihedrals['Res'][row], dihedrals['Angle'][row], \n",
    "               dihedrals['1'][row], dihedrals['2'][row],\n",
    "               dihedrals['3'][row], dihedrals['4'][row],\n",
    "               dihedrals['Res'][row] + '-' + dihedrals['Angle'][row])"
   ]
  },
  {
   "cell_type": "code",
   "execution_count": null,
   "metadata": {
    "collapsed": true
   },
   "outputs": [],
   "source": []
  }
 ],
 "metadata": {
  "anaconda-cloud": {},
  "kernelspec": {
   "display_name": "Python 3",
   "language": "python",
   "name": "python3"
  },
  "language_info": {
   "codemirror_mode": {
    "name": "ipython",
    "version": 3
   },
   "file_extension": ".py",
   "mimetype": "text/x-python",
   "name": "python",
   "nbconvert_exporter": "python",
   "pygments_lexer": "ipython3",
   "version": "3.6.0"
  }
 },
 "nbformat": 4,
 "nbformat_minor": 0
}
