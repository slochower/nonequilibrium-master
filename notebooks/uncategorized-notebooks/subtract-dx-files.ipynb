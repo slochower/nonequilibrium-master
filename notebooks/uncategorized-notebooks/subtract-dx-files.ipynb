{
 "cells": [
  {
   "cell_type": "code",
   "execution_count": 17,
   "metadata": {
    "collapsed": false
   },
   "outputs": [
    {
     "name": "stdout",
     "output_type": "stream",
     "text": [
      "The autoreload extension is already loaded. To reload it, use:\n",
      "  %reload_ext autoreload\n"
     ]
    }
   ],
   "source": [
    "from __future__ import division, print_function\n",
    "\n",
    "import datetime\n",
    "import decimal\n",
    "import glob\n",
    "import inspect\n",
    "import os as os\n",
    "import subprocess\n",
    "import sys\n",
    "\n",
    "import math as math\n",
    "import matplotlib as mpl\n",
    "import matplotlib.pyplot as plt\n",
    "import matplotlib.ticker as mtick\n",
    "import numpy as np\n",
    "import scipy as sc\n",
    "from math import pi\n",
    "from matplotlib.colors import LogNorm\n",
    "from matplotlib.gridspec import GridSpec, GridSpecFromSubplotSpec\n",
    "from matplotlib.ticker import FormatStrFormatter\n",
    "from matplotlib.ticker import MultipleLocator\n",
    "from mpl_toolkits.axes_grid1 import make_axes_locatable\n",
    "from numpy import genfromtxt\n",
    "from scipy import signal\n",
    "from scipy.ndimage.filters import gaussian_filter\n",
    "from scipy import stats\n",
    "\n",
    "\n",
    "%load_ext autoreload\n",
    "%autoreload 2\n",
    "%matplotlib inline\n",
    "\n",
    "import seaborn as sns\n",
    "sns.set(style='darkgrid', palette='Set2')\n",
    "sns.set_context(\"notebook\", font_scale=2, rc={\"lines.linewidth\": 2.5})"
   ]
  },
  {
   "cell_type": "code",
   "execution_count": 14,
   "metadata": {
    "collapsed": false
   },
   "outputs": [
    {
     "name": "stdout",
     "output_type": "stream",
     "text": [
      "Subtracting /home/dslochower/Kirkwood/gpfs-jiyin-enthalpy_calc-TIP3P-oah_g1_flexible_backup-windows-a00/na.dx from /home/dslochower/Kirkwood/gpfs-jiyin-enthalpy_calc-TIP3P-oah_g1_flexible_backup-windows-a00/na.dx\n",
      "Subtracting /home/dslochower/Kirkwood/gpfs-jiyin-enthalpy_calc-TIP3P-oah_g1_flexible_backup-windows-a00/wat.dx from /home/dslochower/Kirkwood/gpfs-jiyin-enthalpy_calc-TIP3P-oah_g1_flexible_backup-windows-a00/wat.dx\n",
      "Subtracting /home/dslochower/Kirkwood/gpfs-jiyin-enthalpy_calc-TIP3P-oah_g1_flexible_backup-windows-u45/na.dx from /home/dslochower/Kirkwood/gpfs-jiyin-enthalpy_calc-TIP3P-oah_g1_flexible_backup-windows-u45/na.dx\n",
      "Subtracting /home/dslochower/Kirkwood/gpfs-jiyin-enthalpy_calc-TIP3P-oah_g1_flexible_backup-windows-u45/wat.dx from /home/dslochower/Kirkwood/gpfs-jiyin-enthalpy_calc-TIP3P-oah_g1_flexible_backup-windows-u45/wat.dx\n",
      "Subtracting /home/dslochower/Kirkwood/gpfs-jiyin-SAMPL5-oah-oah_g2_dh-oah_g2_flexible_backup-windows-a00/na.dx from /home/dslochower/Kirkwood/gpfs-jiyin-SAMPL5-oah-oah_g2_dh-oah_g2_flexible_backup-windows-a00/na.dx\n",
      "Subtracting /home/dslochower/Kirkwood/gpfs-jiyin-SAMPL5-oah-oah_g2_dh-oah_g2_flexible_backup-windows-a00/wat.dx from /home/dslochower/Kirkwood/gpfs-jiyin-SAMPL5-oah-oah_g2_dh-oah_g2_flexible_backup-windows-a00/wat.dx\n",
      "Subtracting /home/dslochower/Kirkwood/gpfs-jiyin-SAMPL5-oah-oah_g2_dh-oah_g2_flexible_backup-windows-u45/na.dx from /home/dslochower/Kirkwood/gpfs-jiyin-SAMPL5-oah-oah_g2_dh-oah_g2_flexible_backup-windows-u45/na.dx\n",
      "Subtracting /home/dslochower/Kirkwood/gpfs-jiyin-SAMPL5-oah-oah_g2_dh-oah_g2_flexible_backup-windows-u45/wat.dx from /home/dslochower/Kirkwood/gpfs-jiyin-SAMPL5-oah-oah_g2_dh-oah_g2_flexible_backup-windows-u45/wat.dx\n",
      "Subtracting /home/dslochower/Kirkwood/data-jiyin-SAMPL5-oah_g3_flexible_backup-windows-a00/na.dx from /home/dslochower/Kirkwood/data-jiyin-SAMPL5-oah_g3_flexible_backup-windows-a00/na.dx\n",
      "Subtracting /home/dslochower/Kirkwood/data-jiyin-SAMPL5-oah_g3_flexible_backup-windows-a00/wat.dx from /home/dslochower/Kirkwood/data-jiyin-SAMPL5-oah_g3_flexible_backup-windows-a00/wat.dx\n",
      "Subtracting /home/dslochower/Kirkwood/data-jiyin-SAMPL5-oah_g3_flexible_backup-windows-u45/na.dx from /home/dslochower/Kirkwood/data-jiyin-SAMPL5-oah_g3_flexible_backup-windows-u45/na.dx\n",
      "Subtracting /home/dslochower/Kirkwood/data-jiyin-SAMPL5-oah_g3_flexible_backup-windows-u45/wat.dx from /home/dslochower/Kirkwood/data-jiyin-SAMPL5-oah_g3_flexible_backup-windows-u45/wat.dx\n",
      "Subtracting /home/dslochower/Kirkwood/gpfs-jiyin-SAMPL5-oah-oah_g4_flexible_backup-windows-a00/na.dx from /home/dslochower/Kirkwood/gpfs-jiyin-SAMPL5-oah-oah_g4_flexible_backup-windows-a00/na.dx\n",
      "Subtracting /home/dslochower/Kirkwood/gpfs-jiyin-SAMPL5-oah-oah_g4_flexible_backup-windows-a00/wat.dx from /home/dslochower/Kirkwood/gpfs-jiyin-SAMPL5-oah-oah_g4_flexible_backup-windows-a00/wat.dx\n",
      "Subtracting /home/dslochower/Kirkwood/gpfs-jiyin-SAMPL5-oah-oah_g4_flexible_backup-windows-u45/na.dx from /home/dslochower/Kirkwood/gpfs-jiyin-SAMPL5-oah-oah_g4_flexible_backup-windows-u45/na.dx\n",
      "Subtracting /home/dslochower/Kirkwood/gpfs-jiyin-SAMPL5-oah-oah_g4_flexible_backup-windows-u45/wat.dx from /home/dslochower/Kirkwood/gpfs-jiyin-SAMPL5-oah-oah_g4_flexible_backup-windows-u45/wat.dx\n",
      "Subtracting /home/dslochower/Kirkwood/gpfs-jiyin-SAMPL5-oah-oah_g5_flexible_backup-u45/na.dx from /home/dslochower/Kirkwood/gpfs-jiyin-SAMPL5-oah-oah_g5_flexible_backup-u45/na.dx\n",
      "Subtracting /home/dslochower/Kirkwood/gpfs-jiyin-SAMPL5-oah-oah_g5_flexible_backup-u45/wat.dx from /home/dslochower/Kirkwood/gpfs-jiyin-SAMPL5-oah-oah_g5_flexible_backup-u45/wat.dx\n",
      "Subtracting /home/dslochower/Kirkwood/gpfs-jiyin-tscc_backup-enthalpy_runs-oame_g4_TIP3P-a00/na.dx from /home/dslochower/Kirkwood/gpfs-jiyin-tscc_backup-enthalpy_runs-oame_g4_TIP3P-u45/na.dx\n",
      "Subtracting /home/dslochower/Kirkwood/gpfs-jiyin-tscc_backup-enthalpy_runs-oame_g4_TIP3P-a00/wat.dx from /home/dslochower/Kirkwood/gpfs-jiyin-tscc_backup-enthalpy_runs-oame_g4_TIP3P-u45/wat.dx\n"
     ]
    }
   ],
   "source": [
    "dir              = '/home/dslochower/Kirkwood/'\n",
    "\n",
    "guests = [\"g1\", \"g2\", \"g3\", \"g4\", \"g5\", \"g6\"]\n",
    "hosts  = [\"oah\", \"oame\"]\n",
    "\n",
    "for host in hosts:\n",
    "    for guest in guests:\n",
    "        unbound_files = sorted(glob.glob(dir+'*'+host+'*'+guest+'*u*/*dx'))\n",
    "        bound_files   = sorted(glob.glob(dir+'*'+host+'*'+guest+'*a*/*dx'))\n",
    "        assert len(unbound_files) == len(bound_files)\n",
    "        for file, _ in enumerate(unbound_files):\n",
    "            print('Subtracting {} from {}'.format(bound_files[file], unbound_files[file]))\n",
    "            surpc"
   ]
  },
  {
   "cell_type": "code",
   "execution_count": 16,
   "metadata": {
    "collapsed": false
   },
   "outputs": [],
   "source": [
    "import subprocess"
   ]
  },
  {
   "cell_type": "code",
   "execution_count": 30,
   "metadata": {
    "collapsed": false
   },
   "outputs": [
    {
     "ename": "CalledProcessError",
     "evalue": "Command '['/home/dslochower/Kirkwood/./gistpp', '-i', '/home/dslochower/Kirkwood/gpfs-jiyin-enthalpy_calc-TIP3P-oah_g1_flexible_backup-windows-a00/na.dx', '-i2', '/home/dslochower/Kirkwood/gpfs-jiyin-enthalpy_calc-TIP3P-oah_g1_flexible_backup-windows-a00/na.dx', '-o', 'tmp2.dx', '-op', 'sub']' returned non-zero exit status -6",
     "output_type": "error",
     "traceback": [
      "\u001b[1;31m---------------------------------------------------------------------------\u001b[0m",
      "\u001b[1;31mCalledProcessError\u001b[0m                        Traceback (most recent call last)",
      "\u001b[1;32m<ipython-input-30-61ca4f17241b>\u001b[0m in \u001b[0;36m<module>\u001b[1;34m()\u001b[0m\n\u001b[1;32m----> 1\u001b[1;33m \u001b[0msubprocess\u001b[0m\u001b[1;33m.\u001b[0m\u001b[0mcheck_call\u001b[0m\u001b[1;33m(\u001b[0m\u001b[1;33m[\u001b[0m\u001b[0mdir\u001b[0m\u001b[1;33m+\u001b[0m\u001b[1;34m\"./gistpp\"\u001b[0m\u001b[1;33m,\u001b[0m \u001b[1;34m\"-i\"\u001b[0m\u001b[1;33m,\u001b[0m \u001b[0munbound_files\u001b[0m\u001b[1;33m[\u001b[0m\u001b[1;36m0\u001b[0m\u001b[1;33m]\u001b[0m\u001b[1;33m,\u001b[0m \u001b[1;34m\"-i2\"\u001b[0m\u001b[1;33m,\u001b[0m \u001b[0mbound_files\u001b[0m\u001b[1;33m[\u001b[0m\u001b[1;36m0\u001b[0m\u001b[1;33m]\u001b[0m\u001b[1;33m,\u001b[0m \u001b[1;34m\"-o\"\u001b[0m\u001b[1;33m,\u001b[0m \u001b[1;34m\"tmp2.dx\"\u001b[0m\u001b[1;33m,\u001b[0m \u001b[1;34m\"-op\"\u001b[0m\u001b[1;33m,\u001b[0m \u001b[1;34m\"sub\"\u001b[0m\u001b[1;33m]\u001b[0m\u001b[1;33m)\u001b[0m\u001b[1;33m\u001b[0m\u001b[0m\n\u001b[0m",
      "\u001b[1;32m/home/dslochower/anaconda3/lib/python3.5/subprocess.py\u001b[0m in \u001b[0;36mcheck_call\u001b[1;34m(*popenargs, **kwargs)\u001b[0m\n\u001b[0;32m    582\u001b[0m         \u001b[1;32mif\u001b[0m \u001b[0mcmd\u001b[0m \u001b[1;32mis\u001b[0m \u001b[1;32mNone\u001b[0m\u001b[1;33m:\u001b[0m\u001b[1;33m\u001b[0m\u001b[0m\n\u001b[0;32m    583\u001b[0m             \u001b[0mcmd\u001b[0m \u001b[1;33m=\u001b[0m \u001b[0mpopenargs\u001b[0m\u001b[1;33m[\u001b[0m\u001b[1;36m0\u001b[0m\u001b[1;33m]\u001b[0m\u001b[1;33m\u001b[0m\u001b[0m\n\u001b[1;32m--> 584\u001b[1;33m         \u001b[1;32mraise\u001b[0m \u001b[0mCalledProcessError\u001b[0m\u001b[1;33m(\u001b[0m\u001b[0mretcode\u001b[0m\u001b[1;33m,\u001b[0m \u001b[0mcmd\u001b[0m\u001b[1;33m)\u001b[0m\u001b[1;33m\u001b[0m\u001b[0m\n\u001b[0m\u001b[0;32m    585\u001b[0m     \u001b[1;32mreturn\u001b[0m \u001b[1;36m0\u001b[0m\u001b[1;33m\u001b[0m\u001b[0m\n\u001b[0;32m    586\u001b[0m \u001b[1;33m\u001b[0m\u001b[0m\n",
      "\u001b[1;31mCalledProcessError\u001b[0m: Command '['/home/dslochower/Kirkwood/./gistpp', '-i', '/home/dslochower/Kirkwood/gpfs-jiyin-enthalpy_calc-TIP3P-oah_g1_flexible_backup-windows-a00/na.dx', '-i2', '/home/dslochower/Kirkwood/gpfs-jiyin-enthalpy_calc-TIP3P-oah_g1_flexible_backup-windows-a00/na.dx', '-o', 'tmp2.dx', '-op', 'sub']' returned non-zero exit status -6"
     ]
    }
   ],
   "source": [
    "subprocess.check_call([dir+\"./gistpp\", \"-i\", unbound_files[0], \"-i2\", bound_files[0], \"-o\", \"tmp2.dx\", \"-op\", \"sub\"])"
   ]
  },
  {
   "cell_type": "code",
   "execution_count": 27,
   "metadata": {
    "collapsed": true
   },
   "outputs": [],
   "source": [
    "dir              = '/home/dslochower/Kirkwood/'\n",
    "unbound_files = sorted(glob.glob(dir+'*'+'oah'+'*'+'g1'+'*u*/*dx'))\n",
    "bound_files   = sorted(glob.glob(dir+'*'+'oah'+'*'+'g1'+'*a*/*dx'))\n"
   ]
  },
  {
   "cell_type": "code",
   "execution_count": 28,
   "metadata": {
    "collapsed": false
   },
   "outputs": [
    {
     "data": {
      "text/plain": [
       "['/home/dslochower/Kirkwood/gpfs-jiyin-enthalpy_calc-TIP3P-oah_g1_flexible_backup-windows-a00/na.dx',\n",
       " '/home/dslochower/Kirkwood/gpfs-jiyin-enthalpy_calc-TIP3P-oah_g1_flexible_backup-windows-a00/wat.dx',\n",
       " '/home/dslochower/Kirkwood/gpfs-jiyin-enthalpy_calc-TIP3P-oah_g1_flexible_backup-windows-u45/na.dx',\n",
       " '/home/dslochower/Kirkwood/gpfs-jiyin-enthalpy_calc-TIP3P-oah_g1_flexible_backup-windows-u45/wat.dx']"
      ]
     },
     "execution_count": 28,
     "metadata": {},
     "output_type": "execute_result"
    }
   ],
   "source": [
    "unbound_files"
   ]
  },
  {
   "cell_type": "code",
   "execution_count": null,
   "metadata": {
    "collapsed": true
   },
   "outputs": [],
   "source": []
  }
 ],
 "metadata": {
  "kernelspec": {
   "display_name": "Python 3",
   "language": "python",
   "name": "python3"
  },
  "language_info": {
   "codemirror_mode": {
    "name": "ipython",
    "version": 3
   },
   "file_extension": ".py",
   "mimetype": "text/x-python",
   "name": "python",
   "nbconvert_exporter": "python",
   "pygments_lexer": "ipython3",
   "version": "3.5.1"
  }
 },
 "nbformat": 4,
 "nbformat_minor": 0
}
