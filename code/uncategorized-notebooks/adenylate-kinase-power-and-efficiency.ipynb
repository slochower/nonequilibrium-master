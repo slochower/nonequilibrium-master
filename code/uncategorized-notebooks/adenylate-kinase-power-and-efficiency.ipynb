{
 "cells": [
  {
   "cell_type": "code",
   "execution_count": 1,
   "metadata": {
    "collapsed": true
   },
   "outputs": [],
   "source": [
    "from simulation import *\n",
    "from aesthetics import *\n",
    "from models import *\n",
    "from data import *\n",
    "from analysis import *\n",
    "\n",
    "import glob\n",
    "import os as os\n",
    "import re as re\n",
    "import pandas as pd\n",
    "\n",
    "%reload_ext autoreload\n",
    "%autoreload 2\n",
    "%matplotlib inline\n",
    "mpl.rc('text', usetex=True)\n",
    "\n",
    "df = pd.read_pickle('adk-concentration-scan.pickle')"
   ]
  },
  {
   "cell_type": "code",
   "execution_count": 2,
   "metadata": {
    "collapsed": true
   },
   "outputs": [],
   "source": [
    "def return_concentration_slice(df, concentration):\n",
    "    tmp = df[np.round(df['Concentration'], 1) ==  np.round(concentration, 1)]\n",
    "    return tmp"
   ]
  },
  {
   "cell_type": "code",
   "execution_count": 3,
   "metadata": {
    "collapsed": true
   },
   "outputs": [],
   "source": [
    "tmp = return_concentration_slice(df, -3)"
   ]
  },
  {
   "cell_type": "code",
   "execution_count": 4,
   "metadata": {
    "collapsed": false
   },
   "outputs": [
    {
     "data": {
      "text/plain": [
       "Concentration                                                    -2709\n",
       "Directional flux                                              -356.859\n",
       "Driven flux                                                      31255\n",
       "File                 chi1ALA11chi1ALA127chi1ALA17chi1ALA176chi1ALA1...\n",
       "Intersurface flux                                              8885.79\n",
       "Max load                                                         0.393\n",
       "Max power                                                      59.4986\n",
       "ResID                1112717176186188194203207373849556673893959911...\n",
       "dtype: object"
      ]
     },
     "execution_count": 4,
     "metadata": {},
     "output_type": "execute_result"
    }
   ],
   "source": [
    "tmp.sum()"
   ]
  },
  {
   "cell_type": "code",
   "execution_count": 5,
   "metadata": {
    "collapsed": false
   },
   "outputs": [
    {
     "data": {
      "text/plain": [
       "59.49860185847516"
      ]
     },
     "execution_count": 5,
     "metadata": {},
     "output_type": "execute_result"
    }
   ],
   "source": [
    "tmp['Max power'].sum()"
   ]
  },
  {
   "cell_type": "markdown",
   "metadata": {},
   "source": [
    "Okay, let's say that the energy released by ATP hydrolysis under cellular conditions is about -54 KJ/mol (http://book.bionumbers.org/how-much-energy-is-released-in-atp-hydrolysis/). This comes to about -12.9 kcal/mol. The catalytic rate of ADK is about 312 per second. The input power to the enzyme then is approximately -12.9 kcal/mol * 312 per second = 4000 kcal per mol per second.\n",
    "\n",
    "Assuming ATP hydrolysis supplies *all* the energy to all the angles in ADK and that power generation by one angle is independent of all the others, we can calculate how much power is being captured by the directional flux of the angles."
   ]
  },
  {
   "cell_type": "markdown",
   "metadata": {},
   "source": [
    "I'm not sure the above is correct, I think it's missing a factor. I believe the calculation should read\n",
    "$$\n",
    "P = \\Delta G(S) \\sum_i k_{catalysis} \\times p_{bound, i}(S)\n",
    "$$"
   ]
  },
  {
   "cell_type": "code",
   "execution_count": 9,
   "metadata": {
    "collapsed": true
   },
   "outputs": [],
   "source": [
    "delta_G = -7.2 # kcal per mol at [S] = 0.1 M\n",
    "k_catalysis = 312 # per second"
   ]
  },
  {
   "cell_type": "code",
   "execution_count": 12,
   "metadata": {
    "collapsed": false
   },
   "outputs": [],
   "source": [
    "this = simulation(data_source = 'adk_md_data')\n",
    "this.name = 'psiSER41'\n",
    "this.cSubstrate = 0.1\n",
    "this.simulate()\n",
    "prob_bound_state = np.sum(this.ss[this.bins:2*this.bins])"
   ]
  },
  {
   "cell_type": "code",
   "execution_count": 13,
   "metadata": {
    "collapsed": true
   },
   "outputs": [],
   "source": [
    "power_in = delta_G * k_catalysis * prob_bound_state"
   ]
  },
  {
   "cell_type": "code",
   "execution_count": 14,
   "metadata": {
    "collapsed": false
   },
   "outputs": [
    {
     "name": "stdout",
     "output_type": "stream",
     "text": [
      "-2157.14749756\n"
     ]
    }
   ],
   "source": [
    "print(power_in)"
   ]
  },
  {
   "cell_type": "code",
   "execution_count": 20,
   "metadata": {
    "collapsed": false
   },
   "outputs": [
    {
     "name": "stdout",
     "output_type": "stream",
     "text": [
      "Power ratio = 0.01487\n"
     ]
    }
   ],
   "source": [
    "power_in = 4000 # kcal per mol per second\n",
    "power_out = tmp['Max power'].sum()\n",
    "print('Power ratio = {:0.5f}'.format(power_out / power_in))"
   ]
  },
  {
   "cell_type": "markdown",
   "metadata": {},
   "source": [
    "The energy released by ATP hydrolysis depends on the concentration, as does the power generated by the angles.\n",
    "\n",
    "Notice that the maximum power is dominated by just a few angles."
   ]
  },
  {
   "cell_type": "code",
   "execution_count": 33,
   "metadata": {
    "collapsed": false
   },
   "outputs": [
    {
     "data": {
      "text/plain": [
       "<matplotlib.axes._subplots.AxesSubplot at 0x7fd7ecf54e10>"
      ]
     },
     "execution_count": 33,
     "metadata": {},
     "output_type": "execute_result"
    },
    {
     "data": {
      "image/png": "[encoded data removed]",
      "text/plain": [
       "<matplotlib.figure.Figure at 0x7fd7ecd6a390>"
      ]
     },
     "metadata": {},
     "output_type": "display_data"
    }
   ],
   "source": [
    "aesthetics.generic_plot(tmp.index, tmp['Max power'], xlabel='Index', ylabel='Max power')"
   ]
  },
  {
   "cell_type": "code",
   "execution_count": 39,
   "metadata": {
    "collapsed": false
   },
   "outputs": [
    {
     "name": "stdout",
     "output_type": "stream",
     "text": [
      "There are 900 low power angles and just 3 high power angles.\n",
      "There are 279 exactly zero power angles, where the algorithm probably bailed.\n"
     ]
    }
   ],
   "source": [
    "low_power = sum(tmp['Max power'] < 1)\n",
    "high_power = sum(tmp['Max power'] >= 1)\n",
    "print('There are {} low power angles and just {} high power angles.'.format(low_power, high_power))\n",
    "zero_power = sum(tmp['Max power'] == 0.0)\n",
    "print('There are {} exactly zero power angles, where the algorithm probably bailed.'.format(zero_power))"
   ]
  },
  {
   "cell_type": "code",
   "execution_count": 40,
   "metadata": {
    "collapsed": false
   },
   "outputs": [
    {
     "name": "stdout",
     "output_type": "stream",
     "text": [
      "There are 16 medium power angles.\n"
     ]
    }
   ],
   "source": [
    "medium_power = sum(tmp['Max power'] >= 0.01)\n",
    "print('There are {} medium power angles.'.format(medium_power))"
   ]
  },
  {
   "cell_type": "code",
   "execution_count": 6,
   "metadata": {
    "collapsed": true
   },
   "outputs": [],
   "source": [
    "tmp = return_concentration_slice(df, -1)"
   ]
  },
  {
   "cell_type": "code",
   "execution_count": 8,
   "metadata": {
    "collapsed": false
   },
   "outputs": [
    {
     "name": "stdout",
     "output_type": "stream",
     "text": [
      "Sum of all power = 144.77982 at this concentration\n"
     ]
    }
   ],
   "source": [
    "power_out = tmp['Max power'].sum()\n",
    "print('Sum of all power = {:0.5f} at this concentration'.format(power_out))"
   ]
  },
  {
   "cell_type": "code",
   "execution_count": null,
   "metadata": {
    "collapsed": true
   },
   "outputs": [],
   "source": []
  }
 ],
 "metadata": {
  "anaconda-cloud": {},
  "kernelspec": {
   "display_name": "Python [Root]",
   "language": "python",
   "name": "Python [Root]"
  },
  "language_info": {
   "codemirror_mode": {
    "name": "ipython",
    "version": 3
   },
   "file_extension": ".py",
   "mimetype": "text/x-python",
   "name": "python",
   "nbconvert_exporter": "python",
   "pygments_lexer": "ipython3",
   "version": "3.5.1"
  }
 },
 "nbformat": 4,
 "nbformat_minor": 0
}
