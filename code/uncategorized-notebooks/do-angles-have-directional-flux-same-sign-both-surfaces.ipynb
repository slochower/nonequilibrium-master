{
 "cells": [
  {
   "cell_type": "code",
   "execution_count": 23,
   "metadata": {
    "collapsed": true
   },
   "outputs": [],
   "source": [
    "from simulation import *\n",
    "from aesthetics import *\n",
    "from models import *\n",
    "from data import *\n",
    "from analysis import *\n",
    "\n",
    "import glob\n",
    "import os as os\n",
    "import re as re\n",
    "import pandas as pd\n",
    "\n",
    "%reload_ext autoreload\n",
    "%autoreload 2\n",
    "%matplotlib inline\n",
    "mpl.rc('text', usetex=True)"
   ]
  },
  {
   "cell_type": "markdown",
   "metadata": {},
   "source": [
    "# Do any angles have directional flux that is the same sign on both surfaces?"
   ]
  },
  {
   "cell_type": "code",
   "execution_count": 90,
   "metadata": {
    "collapsed": false,
    "scrolled": true
   },
   "outputs": [],
   "source": [
    "calculation = True\n",
    "adk_dir = '../../md-data/adenylate-kinase/'\n",
    "adk_unbound_files = sorted(glob.glob(adk_dir + 'AdKDihedHist_apo-4ake/' + '*'))\n",
    "names = []\n",
    "for file in range(len(adk_unbound_files)):\n",
    "    name = os.path.splitext(os.path.basename(adk_unbound_files[file]))[0]\n",
    "    name = re.search('^[^_]*', name).group(0)        \n",
    "    if re.search('omega*', name):\n",
    "        continue\n",
    "    if re.search('chi3ASN*', name):\n",
    "        continue\n",
    "    if re.search('chi5LYS*', name):\n",
    "        continue\n",
    "    names.append(name)\n",
    "\n",
    "df = pd.DataFrame()\n",
    "if calculation:\n",
    "    for concentration in np.arange(-6, 0, 0.1):\n",
    "        for name in names:\n",
    "            this = simulation(data_source = 'adk_md_data')\n",
    "            this.name = name\n",
    "            this.cSubstrate = 10**concentration\n",
    "            this.simulate()\n",
    "\n",
    "            a = this.flux_u > 0\n",
    "            b = this.flux_b < 0\n",
    "            same_sign = sum(a != b)\n",
    "            if same_sign > 0:\n",
    "                same_sign_index = np.where(a != b)[0][0] # First place they overlap\n",
    "            else:\n",
    "                same_sign_index = np.nan\n",
    "            df = df.append(pd.DataFrame({'Concentration': concentration,\n",
    "                                'File' : name,\n",
    "                                'Sign': same_sign,\n",
    "                                'Location': same_sign_index,\n",
    "                                'ResID': re.match('.*?([0-9]+)$', name).group(1),\n",
    "                                    }, index=[0]), ignore_index=True)\n"
   ]
  },
  {
   "cell_type": "code",
   "execution_count": 106,
   "metadata": {
    "collapsed": false
   },
   "outputs": [
    {
     "data": {
      "text/html": [
       "<div>\n",
       "<table border=\"1\" class=\"dataframe\">\n",
       "  <thead>\n",
       "    <tr style=\"text-align: right;\">\n",
       "      <th></th>\n",
       "      <th>Concentration</th>\n",
       "      <th>File</th>\n",
       "      <th>Location</th>\n",
       "      <th>ResID</th>\n",
       "      <th>Sign</th>\n",
       "    </tr>\n",
       "  </thead>\n",
       "  <tbody>\n",
       "    <tr>\n",
       "      <th>0</th>\n",
       "      <td>-6.0</td>\n",
       "      <td>chi1ALA11</td>\n",
       "      <td>25.0</td>\n",
       "      <td>11</td>\n",
       "      <td>1</td>\n",
       "    </tr>\n",
       "    <tr>\n",
       "      <th>1</th>\n",
       "      <td>-6.0</td>\n",
       "      <td>chi1ALA127</td>\n",
       "      <td>16.0</td>\n",
       "      <td>127</td>\n",
       "      <td>1</td>\n",
       "    </tr>\n",
       "    <tr>\n",
       "      <th>3</th>\n",
       "      <td>-6.0</td>\n",
       "      <td>chi1ALA176</td>\n",
       "      <td>43.0</td>\n",
       "      <td>176</td>\n",
       "      <td>7</td>\n",
       "    </tr>\n",
       "    <tr>\n",
       "      <th>5</th>\n",
       "      <td>-6.0</td>\n",
       "      <td>chi1ALA188</td>\n",
       "      <td>5.0</td>\n",
       "      <td>188</td>\n",
       "      <td>15</td>\n",
       "    </tr>\n",
       "    <tr>\n",
       "      <th>7</th>\n",
       "      <td>-6.0</td>\n",
       "      <td>chi1ALA203</td>\n",
       "      <td>18.0</td>\n",
       "      <td>203</td>\n",
       "      <td>1</td>\n",
       "    </tr>\n",
       "  </tbody>\n",
       "</table>\n",
       "</div>"
      ],
      "text/plain": [
       "   Concentration        File  Location ResID  Sign\n",
       "0           -6.0   chi1ALA11      25.0    11     1\n",
       "1           -6.0  chi1ALA127      16.0   127     1\n",
       "3           -6.0  chi1ALA176      43.0   176     7\n",
       "5           -6.0  chi1ALA188       5.0   188    15\n",
       "7           -6.0  chi1ALA203      18.0   203     1"
      ]
     },
     "execution_count": 106,
     "metadata": {},
     "output_type": "execute_result"
    }
   ],
   "source": [
    "df[df['Sign'] != 0].head()"
   ]
  },
  {
   "cell_type": "code",
   "execution_count": 118,
   "metadata": {
    "collapsed": false,
    "scrolled": true
   },
   "outputs": [
    {
     "data": {
      "text/html": [
       "<div>\n",
       "<table border=\"1\" class=\"dataframe\">\n",
       "  <thead>\n",
       "    <tr style=\"text-align: right;\">\n",
       "      <th></th>\n",
       "      <th>Concentration</th>\n",
       "      <th>File</th>\n",
       "      <th>Location</th>\n",
       "      <th>ResID</th>\n",
       "      <th>Sign</th>\n",
       "    </tr>\n",
       "  </thead>\n",
       "  <tbody>\n",
       "    <tr>\n",
       "      <th>5</th>\n",
       "      <td>-6.0</td>\n",
       "      <td>chi1ALA188</td>\n",
       "      <td>5.0</td>\n",
       "      <td>188</td>\n",
       "      <td>15</td>\n",
       "    </tr>\n",
       "    <tr>\n",
       "      <th>14</th>\n",
       "      <td>-6.0</td>\n",
       "      <td>chi1ALA73</td>\n",
       "      <td>6.0</td>\n",
       "      <td>73</td>\n",
       "      <td>19</td>\n",
       "    </tr>\n",
       "    <tr>\n",
       "      <th>26</th>\n",
       "      <td>-6.0</td>\n",
       "      <td>chi1ARG2</td>\n",
       "      <td>15.0</td>\n",
       "      <td>2</td>\n",
       "      <td>17</td>\n",
       "    </tr>\n",
       "    <tr>\n",
       "      <th>29</th>\n",
       "      <td>-6.0</td>\n",
       "      <td>chi1ARG71</td>\n",
       "      <td>18.0</td>\n",
       "      <td>71</td>\n",
       "      <td>19</td>\n",
       "    </tr>\n",
       "    <tr>\n",
       "      <th>34</th>\n",
       "      <td>-6.0</td>\n",
       "      <td>chi1ASN190</td>\n",
       "      <td>25.0</td>\n",
       "      <td>190</td>\n",
       "      <td>15</td>\n",
       "    </tr>\n",
       "    <tr>\n",
       "      <th>36</th>\n",
       "      <td>-6.0</td>\n",
       "      <td>chi1ASP104</td>\n",
       "      <td>1.0</td>\n",
       "      <td>104</td>\n",
       "      <td>23</td>\n",
       "    </tr>\n",
       "    <tr>\n",
       "      <th>37</th>\n",
       "      <td>-6.0</td>\n",
       "      <td>chi1ASP110</td>\n",
       "      <td>23.0</td>\n",
       "      <td>110</td>\n",
       "      <td>12</td>\n",
       "    </tr>\n",
       "    <tr>\n",
       "      <th>38</th>\n",
       "      <td>-6.0</td>\n",
       "      <td>chi1ASP113</td>\n",
       "      <td>1.0</td>\n",
       "      <td>113</td>\n",
       "      <td>11</td>\n",
       "    </tr>\n",
       "    <tr>\n",
       "      <th>39</th>\n",
       "      <td>-6.0</td>\n",
       "      <td>chi1ASP118</td>\n",
       "      <td>26.0</td>\n",
       "      <td>118</td>\n",
       "      <td>17</td>\n",
       "    </tr>\n",
       "    <tr>\n",
       "      <th>40</th>\n",
       "      <td>-6.0</td>\n",
       "      <td>chi1ASP146</td>\n",
       "      <td>5.0</td>\n",
       "      <td>146</td>\n",
       "      <td>33</td>\n",
       "    </tr>\n",
       "    <tr>\n",
       "      <th>41</th>\n",
       "      <td>-6.0</td>\n",
       "      <td>chi1ASP147</td>\n",
       "      <td>0.0</td>\n",
       "      <td>147</td>\n",
       "      <td>26</td>\n",
       "    </tr>\n",
       "    <tr>\n",
       "      <th>43</th>\n",
       "      <td>-6.0</td>\n",
       "      <td>chi1ASP159</td>\n",
       "      <td>0.0</td>\n",
       "      <td>159</td>\n",
       "      <td>32</td>\n",
       "    </tr>\n",
       "    <tr>\n",
       "      <th>44</th>\n",
       "      <td>-6.0</td>\n",
       "      <td>chi1ASP197</td>\n",
       "      <td>1.0</td>\n",
       "      <td>197</td>\n",
       "      <td>20</td>\n",
       "    </tr>\n",
       "    <tr>\n",
       "      <th>45</th>\n",
       "      <td>-6.0</td>\n",
       "      <td>chi1ASP208</td>\n",
       "      <td>27.0</td>\n",
       "      <td>208</td>\n",
       "      <td>23</td>\n",
       "    </tr>\n",
       "    <tr>\n",
       "      <th>46</th>\n",
       "      <td>-6.0</td>\n",
       "      <td>chi1ASP33</td>\n",
       "      <td>31.0</td>\n",
       "      <td>33</td>\n",
       "      <td>22</td>\n",
       "    </tr>\n",
       "    <tr>\n",
       "      <th>48</th>\n",
       "      <td>-6.0</td>\n",
       "      <td>chi1ASP54</td>\n",
       "      <td>23.0</td>\n",
       "      <td>54</td>\n",
       "      <td>16</td>\n",
       "    </tr>\n",
       "    <tr>\n",
       "      <th>49</th>\n",
       "      <td>-6.0</td>\n",
       "      <td>chi1ASP61</td>\n",
       "      <td>45.0</td>\n",
       "      <td>61</td>\n",
       "      <td>15</td>\n",
       "    </tr>\n",
       "    <tr>\n",
       "      <th>50</th>\n",
       "      <td>-6.0</td>\n",
       "      <td>chi1ASP76</td>\n",
       "      <td>0.0</td>\n",
       "      <td>76</td>\n",
       "      <td>16</td>\n",
       "    </tr>\n",
       "    <tr>\n",
       "      <th>52</th>\n",
       "      <td>-6.0</td>\n",
       "      <td>chi1ASP94</td>\n",
       "      <td>23.0</td>\n",
       "      <td>94</td>\n",
       "      <td>13</td>\n",
       "    </tr>\n",
       "    <tr>\n",
       "      <th>54</th>\n",
       "      <td>-6.0</td>\n",
       "      <td>chi1GLN16</td>\n",
       "      <td>29.0</td>\n",
       "      <td>16</td>\n",
       "      <td>14</td>\n",
       "    </tr>\n",
       "    <tr>\n",
       "      <th>60</th>\n",
       "      <td>-6.0</td>\n",
       "      <td>chi1GLN74</td>\n",
       "      <td>27.0</td>\n",
       "      <td>74</td>\n",
       "      <td>13</td>\n",
       "    </tr>\n",
       "    <tr>\n",
       "      <th>61</th>\n",
       "      <td>-6.0</td>\n",
       "      <td>chi1GLN92</td>\n",
       "      <td>27.0</td>\n",
       "      <td>92</td>\n",
       "      <td>13</td>\n",
       "    </tr>\n",
       "    <tr>\n",
       "      <th>65</th>\n",
       "      <td>-6.0</td>\n",
       "      <td>chi1GLU151</td>\n",
       "      <td>24.0</td>\n",
       "      <td>151</td>\n",
       "      <td>26</td>\n",
       "    </tr>\n",
       "    <tr>\n",
       "      <th>69</th>\n",
       "      <td>-6.0</td>\n",
       "      <td>chi1GLU170</td>\n",
       "      <td>1.0</td>\n",
       "      <td>170</td>\n",
       "      <td>28</td>\n",
       "    </tr>\n",
       "    <tr>\n",
       "      <th>70</th>\n",
       "      <td>-6.0</td>\n",
       "      <td>chi1GLU185</td>\n",
       "      <td>26.0</td>\n",
       "      <td>185</td>\n",
       "      <td>18</td>\n",
       "    </tr>\n",
       "    <tr>\n",
       "      <th>80</th>\n",
       "      <td>-6.0</td>\n",
       "      <td>chi1HIE126</td>\n",
       "      <td>5.0</td>\n",
       "      <td>126</td>\n",
       "      <td>11</td>\n",
       "    </tr>\n",
       "    <tr>\n",
       "      <th>81</th>\n",
       "      <td>-6.0</td>\n",
       "      <td>chi1HIE134</td>\n",
       "      <td>8.0</td>\n",
       "      <td>134</td>\n",
       "      <td>25</td>\n",
       "    </tr>\n",
       "    <tr>\n",
       "      <th>86</th>\n",
       "      <td>-6.0</td>\n",
       "      <td>chi1ILE179</td>\n",
       "      <td>2.0</td>\n",
       "      <td>179</td>\n",
       "      <td>36</td>\n",
       "    </tr>\n",
       "    <tr>\n",
       "      <th>87</th>\n",
       "      <td>-6.0</td>\n",
       "      <td>chi1ILE20</td>\n",
       "      <td>1.0</td>\n",
       "      <td>20</td>\n",
       "      <td>36</td>\n",
       "    </tr>\n",
       "    <tr>\n",
       "      <th>91</th>\n",
       "      <td>-6.0</td>\n",
       "      <td>chi1ILE3</td>\n",
       "      <td>23.0</td>\n",
       "      <td>3</td>\n",
       "      <td>19</td>\n",
       "    </tr>\n",
       "    <tr>\n",
       "      <th>...</th>\n",
       "      <td>...</td>\n",
       "      <td>...</td>\n",
       "      <td>...</td>\n",
       "      <td>...</td>\n",
       "      <td>...</td>\n",
       "    </tr>\n",
       "    <tr>\n",
       "      <th>53688</th>\n",
       "      <td>-0.1</td>\n",
       "      <td>chi3PRO140</td>\n",
       "      <td>0.0</td>\n",
       "      <td>140</td>\n",
       "      <td>33</td>\n",
       "    </tr>\n",
       "    <tr>\n",
       "      <th>53689</th>\n",
       "      <td>-0.1</td>\n",
       "      <td>chi3PRO177</td>\n",
       "      <td>0.0</td>\n",
       "      <td>177</td>\n",
       "      <td>29</td>\n",
       "    </tr>\n",
       "    <tr>\n",
       "      <th>53690</th>\n",
       "      <td>-0.1</td>\n",
       "      <td>chi3PRO201</td>\n",
       "      <td>0.0</td>\n",
       "      <td>201</td>\n",
       "      <td>14</td>\n",
       "    </tr>\n",
       "    <tr>\n",
       "      <th>53691</th>\n",
       "      <td>-0.1</td>\n",
       "      <td>chi3PRO27</td>\n",
       "      <td>0.0</td>\n",
       "      <td>27</td>\n",
       "      <td>22</td>\n",
       "    </tr>\n",
       "    <tr>\n",
       "      <th>53692</th>\n",
       "      <td>-0.1</td>\n",
       "      <td>chi3PRO87</td>\n",
       "      <td>0.0</td>\n",
       "      <td>87</td>\n",
       "      <td>17</td>\n",
       "    </tr>\n",
       "    <tr>\n",
       "      <th>53693</th>\n",
       "      <td>-0.1</td>\n",
       "      <td>chi3PRO9</td>\n",
       "      <td>0.0</td>\n",
       "      <td>9</td>\n",
       "      <td>17</td>\n",
       "    </tr>\n",
       "    <tr>\n",
       "      <th>53694</th>\n",
       "      <td>-0.1</td>\n",
       "      <td>chi3PRO91</td>\n",
       "      <td>0.0</td>\n",
       "      <td>91</td>\n",
       "      <td>24</td>\n",
       "    </tr>\n",
       "    <tr>\n",
       "      <th>53696</th>\n",
       "      <td>-0.1</td>\n",
       "      <td>chi3TYR133</td>\n",
       "      <td>2.0</td>\n",
       "      <td>133</td>\n",
       "      <td>12</td>\n",
       "    </tr>\n",
       "    <tr>\n",
       "      <th>53705</th>\n",
       "      <td>-0.1</td>\n",
       "      <td>chi4ARG131</td>\n",
       "      <td>0.0</td>\n",
       "      <td>131</td>\n",
       "      <td>18</td>\n",
       "    </tr>\n",
       "    <tr>\n",
       "      <th>53712</th>\n",
       "      <td>-0.1</td>\n",
       "      <td>chi4ARG71</td>\n",
       "      <td>14.0</td>\n",
       "      <td>71</td>\n",
       "      <td>14</td>\n",
       "    </tr>\n",
       "    <tr>\n",
       "      <th>53714</th>\n",
       "      <td>-0.1</td>\n",
       "      <td>chi4ARG88</td>\n",
       "      <td>19.0</td>\n",
       "      <td>88</td>\n",
       "      <td>15</td>\n",
       "    </tr>\n",
       "    <tr>\n",
       "      <th>53715</th>\n",
       "      <td>-0.1</td>\n",
       "      <td>chi4GLN16</td>\n",
       "      <td>12.0</td>\n",
       "      <td>16</td>\n",
       "      <td>13</td>\n",
       "    </tr>\n",
       "    <tr>\n",
       "      <th>53716</th>\n",
       "      <td>-0.1</td>\n",
       "      <td>chi4GLN160</td>\n",
       "      <td>12.0</td>\n",
       "      <td>160</td>\n",
       "      <td>19</td>\n",
       "    </tr>\n",
       "    <tr>\n",
       "      <th>53717</th>\n",
       "      <td>-0.1</td>\n",
       "      <td>chi4GLN173</td>\n",
       "      <td>12.0</td>\n",
       "      <td>173</td>\n",
       "      <td>24</td>\n",
       "    </tr>\n",
       "    <tr>\n",
       "      <th>53718</th>\n",
       "      <td>-0.1</td>\n",
       "      <td>chi4GLN18</td>\n",
       "      <td>12.0</td>\n",
       "      <td>18</td>\n",
       "      <td>23</td>\n",
       "    </tr>\n",
       "    <tr>\n",
       "      <th>53719</th>\n",
       "      <td>-0.1</td>\n",
       "      <td>chi4GLN28</td>\n",
       "      <td>12.0</td>\n",
       "      <td>28</td>\n",
       "      <td>26</td>\n",
       "    </tr>\n",
       "    <tr>\n",
       "      <th>53720</th>\n",
       "      <td>-0.1</td>\n",
       "      <td>chi4GLN48</td>\n",
       "      <td>7.0</td>\n",
       "      <td>48</td>\n",
       "      <td>17</td>\n",
       "    </tr>\n",
       "    <tr>\n",
       "      <th>53721</th>\n",
       "      <td>-0.1</td>\n",
       "      <td>chi4GLN74</td>\n",
       "      <td>19.0</td>\n",
       "      <td>74</td>\n",
       "      <td>23</td>\n",
       "    </tr>\n",
       "    <tr>\n",
       "      <th>53741</th>\n",
       "      <td>-0.1</td>\n",
       "      <td>chi5ARG119</td>\n",
       "      <td>4.0</td>\n",
       "      <td>119</td>\n",
       "      <td>34</td>\n",
       "    </tr>\n",
       "    <tr>\n",
       "      <th>53742</th>\n",
       "      <td>-0.1</td>\n",
       "      <td>chi5ARG123</td>\n",
       "      <td>5.0</td>\n",
       "      <td>123</td>\n",
       "      <td>34</td>\n",
       "    </tr>\n",
       "    <tr>\n",
       "      <th>53743</th>\n",
       "      <td>-0.1</td>\n",
       "      <td>chi5ARG124</td>\n",
       "      <td>1.0</td>\n",
       "      <td>124</td>\n",
       "      <td>31</td>\n",
       "    </tr>\n",
       "    <tr>\n",
       "      <th>53745</th>\n",
       "      <td>-0.1</td>\n",
       "      <td>chi5ARG156</td>\n",
       "      <td>1.0</td>\n",
       "      <td>156</td>\n",
       "      <td>23</td>\n",
       "    </tr>\n",
       "    <tr>\n",
       "      <th>53746</th>\n",
       "      <td>-0.1</td>\n",
       "      <td>chi5ARG165</td>\n",
       "      <td>0.0</td>\n",
       "      <td>165</td>\n",
       "      <td>29</td>\n",
       "    </tr>\n",
       "    <tr>\n",
       "      <th>53747</th>\n",
       "      <td>-0.1</td>\n",
       "      <td>chi5ARG167</td>\n",
       "      <td>1.0</td>\n",
       "      <td>167</td>\n",
       "      <td>12</td>\n",
       "    </tr>\n",
       "    <tr>\n",
       "      <th>53748</th>\n",
       "      <td>-0.1</td>\n",
       "      <td>chi5ARG2</td>\n",
       "      <td>3.0</td>\n",
       "      <td>2</td>\n",
       "      <td>32</td>\n",
       "    </tr>\n",
       "    <tr>\n",
       "      <th>53749</th>\n",
       "      <td>-0.1</td>\n",
       "      <td>chi5ARG206</td>\n",
       "      <td>0.0</td>\n",
       "      <td>206</td>\n",
       "      <td>23</td>\n",
       "    </tr>\n",
       "    <tr>\n",
       "      <th>53750</th>\n",
       "      <td>-0.1</td>\n",
       "      <td>chi5ARG36</td>\n",
       "      <td>0.0</td>\n",
       "      <td>36</td>\n",
       "      <td>26</td>\n",
       "    </tr>\n",
       "    <tr>\n",
       "      <th>53751</th>\n",
       "      <td>-0.1</td>\n",
       "      <td>chi5ARG71</td>\n",
       "      <td>12.0</td>\n",
       "      <td>71</td>\n",
       "      <td>14</td>\n",
       "    </tr>\n",
       "    <tr>\n",
       "      <th>53752</th>\n",
       "      <td>-0.1</td>\n",
       "      <td>chi5ARG78</td>\n",
       "      <td>0.0</td>\n",
       "      <td>78</td>\n",
       "      <td>34</td>\n",
       "    </tr>\n",
       "    <tr>\n",
       "      <th>53753</th>\n",
       "      <td>-0.1</td>\n",
       "      <td>chi5ARG88</td>\n",
       "      <td>0.0</td>\n",
       "      <td>88</td>\n",
       "      <td>19</td>\n",
       "    </tr>\n",
       "  </tbody>\n",
       "</table>\n",
       "<p>6123 rows × 5 columns</p>\n",
       "</div>"
      ],
      "text/plain": [
       "       Concentration        File  Location ResID  Sign\n",
       "5               -6.0  chi1ALA188       5.0   188    15\n",
       "14              -6.0   chi1ALA73       6.0    73    19\n",
       "26              -6.0    chi1ARG2      15.0     2    17\n",
       "29              -6.0   chi1ARG71      18.0    71    19\n",
       "34              -6.0  chi1ASN190      25.0   190    15\n",
       "36              -6.0  chi1ASP104       1.0   104    23\n",
       "37              -6.0  chi1ASP110      23.0   110    12\n",
       "38              -6.0  chi1ASP113       1.0   113    11\n",
       "39              -6.0  chi1ASP118      26.0   118    17\n",
       "40              -6.0  chi1ASP146       5.0   146    33\n",
       "41              -6.0  chi1ASP147       0.0   147    26\n",
       "43              -6.0  chi1ASP159       0.0   159    32\n",
       "44              -6.0  chi1ASP197       1.0   197    20\n",
       "45              -6.0  chi1ASP208      27.0   208    23\n",
       "46              -6.0   chi1ASP33      31.0    33    22\n",
       "48              -6.0   chi1ASP54      23.0    54    16\n",
       "49              -6.0   chi1ASP61      45.0    61    15\n",
       "50              -6.0   chi1ASP76       0.0    76    16\n",
       "52              -6.0   chi1ASP94      23.0    94    13\n",
       "54              -6.0   chi1GLN16      29.0    16    14\n",
       "60              -6.0   chi1GLN74      27.0    74    13\n",
       "61              -6.0   chi1GLN92      27.0    92    13\n",
       "65              -6.0  chi1GLU151      24.0   151    26\n",
       "69              -6.0  chi1GLU170       1.0   170    28\n",
       "70              -6.0  chi1GLU185      26.0   185    18\n",
       "80              -6.0  chi1HIE126       5.0   126    11\n",
       "81              -6.0  chi1HIE134       8.0   134    25\n",
       "86              -6.0  chi1ILE179       2.0   179    36\n",
       "87              -6.0   chi1ILE20       1.0    20    36\n",
       "91              -6.0    chi1ILE3      23.0     3    19\n",
       "...              ...         ...       ...   ...   ...\n",
       "53688           -0.1  chi3PRO140       0.0   140    33\n",
       "53689           -0.1  chi3PRO177       0.0   177    29\n",
       "53690           -0.1  chi3PRO201       0.0   201    14\n",
       "53691           -0.1   chi3PRO27       0.0    27    22\n",
       "53692           -0.1   chi3PRO87       0.0    87    17\n",
       "53693           -0.1    chi3PRO9       0.0     9    17\n",
       "53694           -0.1   chi3PRO91       0.0    91    24\n",
       "53696           -0.1  chi3TYR133       2.0   133    12\n",
       "53705           -0.1  chi4ARG131       0.0   131    18\n",
       "53712           -0.1   chi4ARG71      14.0    71    14\n",
       "53714           -0.1   chi4ARG88      19.0    88    15\n",
       "53715           -0.1   chi4GLN16      12.0    16    13\n",
       "53716           -0.1  chi4GLN160      12.0   160    19\n",
       "53717           -0.1  chi4GLN173      12.0   173    24\n",
       "53718           -0.1   chi4GLN18      12.0    18    23\n",
       "53719           -0.1   chi4GLN28      12.0    28    26\n",
       "53720           -0.1   chi4GLN48       7.0    48    17\n",
       "53721           -0.1   chi4GLN74      19.0    74    23\n",
       "53741           -0.1  chi5ARG119       4.0   119    34\n",
       "53742           -0.1  chi5ARG123       5.0   123    34\n",
       "53743           -0.1  chi5ARG124       1.0   124    31\n",
       "53745           -0.1  chi5ARG156       1.0   156    23\n",
       "53746           -0.1  chi5ARG165       0.0   165    29\n",
       "53747           -0.1  chi5ARG167       1.0   167    12\n",
       "53748           -0.1    chi5ARG2       3.0     2    32\n",
       "53749           -0.1  chi5ARG206       0.0   206    23\n",
       "53750           -0.1   chi5ARG36       0.0    36    26\n",
       "53751           -0.1   chi5ARG71      12.0    71    14\n",
       "53752           -0.1   chi5ARG78       0.0    78    34\n",
       "53753           -0.1   chi5ARG88       0.0    88    19\n",
       "\n",
       "[6123 rows x 5 columns]"
      ]
     },
     "execution_count": 118,
     "metadata": {},
     "output_type": "execute_result"
    }
   ],
   "source": [
    "df[(df['File'].str.contains('chi')) & (df['Sign'] > 10)]"
   ]
  },
  {
   "cell_type": "code",
   "execution_count": 122,
   "metadata": {
    "collapsed": false
   },
   "outputs": [
    {
     "name": "stdout",
     "output_type": "stream",
     "text": [
      "C                         +1.00e+06  second**-1\n",
      "D                         +3.00e+12  degrees**2 second**-1\n",
      "k_{cat}                   +3.12e+02  second**-1\n",
      "[S]                       +7.94e-01  M         \n",
      "dt                        +1.00e-12  second**-1\n",
      "-----------------         ---------  --------- \n",
      "Intrasurface flux         -8.75e-05  cycle second**-1\n",
      "Peak intrasurface flux    +1.57e+01  cycle second**-1\n",
      "Intersurface flux         -1.21e-06  cycle second**-1\n"
     ]
    },
    {
     "data": {
      "image/png": "[encoded data removed]",
      "text/plain": [
       "<matplotlib.figure.Figure at 0x7f31dbdf1cc0>"
      ]
     },
     "metadata": {},
     "output_type": "display_data"
    }
   ],
   "source": [
    "this = simulation(data_source = 'adk_md_data')\n",
    "this.name = 'chi4GLN28'\n",
    "this.cSubstrate = 10**-0.1\n",
    "this.simulate()\n",
    "this.plot_flux()"
   ]
  },
  {
   "cell_type": "code",
   "execution_count": 35,
   "metadata": {
    "collapsed": false,
    "scrolled": true
   },
   "outputs": [],
   "source": [
    "a = this.flux_u > 0\n",
    "b = this.flux_b < 0"
   ]
  },
  {
   "cell_type": "code",
   "execution_count": 36,
   "metadata": {
    "collapsed": false
   },
   "outputs": [
    {
     "data": {
      "text/plain": [
       "array([ True,  True,  True,  True,  True,  True, False, False, False,\n",
       "       False, False, False, False, False, False, False,  True,  True,\n",
       "        True,  True,  True,  True,  True,  True,  True, False, False,\n",
       "       False, False, False, False, False, False, False, False, False,\n",
       "        True,  True,  True,  True,  True,  True,  True,  True,  True,\n",
       "        True,  True,  True,  True,  True,  True,  True,  True,  True,\n",
       "        True,  True,  True,  True,  True,  True], dtype=bool)"
      ]
     },
     "execution_count": 36,
     "metadata": {},
     "output_type": "execute_result"
    }
   ],
   "source": [
    "a"
   ]
  },
  {
   "cell_type": "code",
   "execution_count": 37,
   "metadata": {
    "collapsed": false
   },
   "outputs": [
    {
     "data": {
      "text/plain": [
       "array([ True,  True,  True,  True,  True,  True, False, False, False,\n",
       "       False, False, False, False, False, False, False,  True,  True,\n",
       "        True,  True,  True,  True,  True,  True,  True,  True, False,\n",
       "       False, False, False, False, False, False, False, False, False,\n",
       "        True,  True,  True,  True,  True,  True,  True,  True,  True,\n",
       "        True,  True,  True,  True,  True,  True,  True,  True,  True,\n",
       "        True,  True,  True,  True,  True,  True], dtype=bool)"
      ]
     },
     "execution_count": 37,
     "metadata": {},
     "output_type": "execute_result"
    }
   ],
   "source": [
    "b"
   ]
  },
  {
   "cell_type": "code",
   "execution_count": 70,
   "metadata": {
    "collapsed": false
   },
   "outputs": [
    {
     "data": {
      "text/plain": [
       "array([False, False, False, False, False, False, False, False, False,\n",
       "       False, False, False, False, False, False, False, False, False,\n",
       "       False, False, False, False, False, False, False,  True, False,\n",
       "       False, False, False, False, False, False, False, False, False,\n",
       "       False, False, False, False, False, False, False, False, False,\n",
       "       False, False, False, False, False, False, False, False, False,\n",
       "       False, False, False, False, False, False], dtype=bool)"
      ]
     },
     "execution_count": 70,
     "metadata": {},
     "output_type": "execute_result"
    }
   ],
   "source": [
    "a != b"
   ]
  },
  {
   "cell_type": "code",
   "execution_count": 71,
   "metadata": {
    "collapsed": false
   },
   "outputs": [
    {
     "data": {
      "text/plain": [
       "1"
      ]
     },
     "execution_count": 71,
     "metadata": {},
     "output_type": "execute_result"
    }
   ],
   "source": [
    "sum(a != b)"
   ]
  },
  {
   "cell_type": "code",
   "execution_count": 61,
   "metadata": {
    "collapsed": false
   },
   "outputs": [
    {
     "data": {
      "text/plain": [
       "(array([25]),)"
      ]
     },
     "execution_count": 61,
     "metadata": {},
     "output_type": "execute_result"
    }
   ],
   "source": [
    "np.where(a != b)"
   ]
  },
  {
   "cell_type": "code",
   "execution_count": 64,
   "metadata": {
    "collapsed": false
   },
   "outputs": [
    {
     "data": {
      "text/plain": [
       "-0.00010973215103149414"
      ]
     },
     "execution_count": 64,
     "metadata": {},
     "output_type": "execute_result"
    }
   ],
   "source": [
    "this.flux_u[25]"
   ]
  },
  {
   "cell_type": "code",
   "execution_count": 65,
   "metadata": {
    "collapsed": false
   },
   "outputs": [
    {
     "data": {
      "text/plain": [
       "-0.00042011542245745659"
      ]
     },
     "execution_count": 65,
     "metadata": {},
     "output_type": "execute_result"
    }
   ],
   "source": [
    "this.flux_b[25]"
   ]
  },
  {
   "cell_type": "code",
   "execution_count": 69,
   "metadata": {
    "collapsed": false
   },
   "outputs": [
    {
     "data": {
      "image/png": "[encoded data removed]",
      "text/plain": [
       "<matplotlib.figure.Figure at 0x7f31dbbda668>"
      ]
     },
     "metadata": {},
     "output_type": "display_data"
    }
   ],
   "source": [
    "fig = plt.figure()\n",
    "ax = fig.add_subplot(111)\n",
    "ax.plot(this.flux_u, c='b')\n",
    "ax.plot(this.flux_b, c='r')\n",
    "ax.axhline(y = 0, c='k', ls='--', lw=1)\n",
    "ax.scatter(25, this.flux_u[25], c='k', s=120, zorder=20, label='-0.0001 and -0.0004')\n",
    "ax.legend(frameon=True)\n",
    "aesthetics.paper_plot(fig)"
   ]
  },
  {
   "cell_type": "code",
   "execution_count": 20,
   "metadata": {
    "collapsed": false
   },
   "outputs": [
    {
     "data": {
      "text/html": [
       "<div>\n",
       "<table border=\"1\" class=\"dataframe\">\n",
       "  <thead>\n",
       "    <tr style=\"text-align: right;\">\n",
       "      <th></th>\n",
       "      <th>Concentration</th>\n",
       "      <th>File</th>\n",
       "      <th>ResID</th>\n",
       "      <th>Sign</th>\n",
       "    </tr>\n",
       "  </thead>\n",
       "  <tbody>\n",
       "    <tr>\n",
       "      <th>0</th>\n",
       "      <td>-6.0</td>\n",
       "      <td>chi1ALA11</td>\n",
       "      <td>11</td>\n",
       "      <td>True</td>\n",
       "    </tr>\n",
       "    <tr>\n",
       "      <th>1</th>\n",
       "      <td>-6.0</td>\n",
       "      <td>chi1ALA127</td>\n",
       "      <td>127</td>\n",
       "      <td>True</td>\n",
       "    </tr>\n",
       "    <tr>\n",
       "      <th>2</th>\n",
       "      <td>-6.0</td>\n",
       "      <td>chi1ALA17</td>\n",
       "      <td>17</td>\n",
       "      <td>True</td>\n",
       "    </tr>\n",
       "    <tr>\n",
       "      <th>3</th>\n",
       "      <td>-6.0</td>\n",
       "      <td>chi1ALA176</td>\n",
       "      <td>176</td>\n",
       "      <td>True</td>\n",
       "    </tr>\n",
       "    <tr>\n",
       "      <th>4</th>\n",
       "      <td>-6.0</td>\n",
       "      <td>chi1ALA186</td>\n",
       "      <td>186</td>\n",
       "      <td>True</td>\n",
       "    </tr>\n",
       "  </tbody>\n",
       "</table>\n",
       "</div>"
      ],
      "text/plain": [
       "   Concentration        File ResID  Sign\n",
       "0           -6.0   chi1ALA11    11  True\n",
       "1           -6.0  chi1ALA127   127  True\n",
       "2           -6.0   chi1ALA17    17  True\n",
       "3           -6.0  chi1ALA176   176  True\n",
       "4           -6.0  chi1ALA186   186  True"
      ]
     },
     "execution_count": 20,
     "metadata": {},
     "output_type": "execute_result"
    }
   ],
   "source": [
    "df.head()"
   ]
  },
  {
   "cell_type": "code",
   "execution_count": 21,
   "metadata": {
    "collapsed": false
   },
   "outputs": [
    {
     "ename": "NameError",
     "evalue": "name 'this' is not defined",
     "output_type": "error",
     "traceback": [
      "\u001b[1;31m---------------------------------------------------------------------------\u001b[0m",
      "\u001b[1;31mNameError\u001b[0m                                 Traceback (most recent call last)",
      "\u001b[1;32m<ipython-input-21-fab7ae8340f5>\u001b[0m in \u001b[0;36m<module>\u001b[1;34m()\u001b[0m\n\u001b[1;32m----> 1\u001b[1;33m \u001b[0mthis\u001b[0m\u001b[1;33m.\u001b[0m\u001b[0mflux_u\u001b[0m\u001b[1;33m\u001b[0m\u001b[0m\n\u001b[0m",
      "\u001b[1;31mNameError\u001b[0m: name 'this' is not defined"
     ]
    }
   ],
   "source": [
    "this.flux_u"
   ]
  },
  {
   "cell_type": "code",
   "execution_count": null,
   "metadata": {
    "collapsed": true
   },
   "outputs": [],
   "source": []
  }
 ],
 "metadata": {
  "kernelspec": {
   "display_name": "Python [Root]",
   "language": "python",
   "name": "Python [Root]"
  },
  "language_info": {
   "codemirror_mode": {
    "name": "ipython",
    "version": 3
   },
   "file_extension": ".py",
   "mimetype": "text/x-python",
   "name": "python",
   "nbconvert_exporter": "python",
   "pygments_lexer": "ipython3",
   "version": "3.5.1"
  }
 },
 "nbformat": 4,
 "nbformat_minor": 0
}
