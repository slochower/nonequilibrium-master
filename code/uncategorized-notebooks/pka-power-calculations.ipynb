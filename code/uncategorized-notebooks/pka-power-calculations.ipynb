{
 "cells": [
  {
   "cell_type": "code",
   "execution_count": 1,
   "metadata": {
    "collapsed": true
   },
   "outputs": [],
   "source": [
    "from simulation import *\n",
    "from aesthetics import *\n",
    "from models import *\n",
    "from data import *\n",
    "from analysis import *\n",
    "\n",
    "import glob\n",
    "import os as os\n",
    "import re as re\n",
    "import pandas as pd\n",
    "\n",
    "%reload_ext autoreload\n",
    "%autoreload 2\n",
    "%matplotlib inline\n",
    "mpl.rc('text', usetex=True)"
   ]
  },
  {
   "cell_type": "code",
   "execution_count": 2,
   "metadata": {
    "collapsed": false
   },
   "outputs": [],
   "source": [
    "calculation = False\n",
    "df = pd.DataFrame()\n",
    "if calculation:\n",
    "    for concentration in np.arange(-6, 0, 0.1):\n",
    "        for name in names:\n",
    "            directional_flux, intersurface_flux, driven_flux = summarize_fluxes(name, concentration=10**concentration,\n",
    "                                                                               data_source='pka_md_data') \n",
    "            if directional_flux < 0:\n",
    "                negative=True\n",
    "            else:\n",
    "                negative=False\n",
    "            max_power, max_load = summarize_power_and_load(name, concentration=10**concentration, negative=negative, \n",
    "                                                           debug=False, data_source='pka_md_data')\n",
    "            df = df.append(pd.DataFrame({'Concentration': concentration,\n",
    "                                    'Directional flux': directional_flux,\n",
    "                                    'Intersurface flux': intersurface_flux,\n",
    "                                    'Driven flux': driven_flux,\n",
    "                                    'File': name,\n",
    "                                    'Max power': max_power,\n",
    "                                    'Max load' : max_load,\n",
    "                                    'ResID': re.match('.*?([0-9]+)$', name).group(1),\n",
    "                                    }, index=[0]), ignore_index=True)\n",
    "\n",
    "    df.to_pickle('pka-concentration-scan.pickle')\n",
    "else:\n",
    "    df = pd.read_pickle('pka-concentration-scan.pickle')"
   ]
  },
  {
   "cell_type": "code",
   "execution_count": 6,
   "metadata": {
    "collapsed": false
   },
   "outputs": [],
   "source": [
    "def return_concentration_slice(df, concentration):\n",
    "    tmp = df[np.round(df['Concentration'], 1) ==  np.round(concentration, 1)]\n",
    "    return tmp"
   ]
  },
  {
   "cell_type": "code",
   "execution_count": 9,
   "metadata": {
    "collapsed": true
   },
   "outputs": [],
   "source": [
    "tmp = return_concentration_slice(df, -0.1)"
   ]
  },
  {
   "cell_type": "code",
   "execution_count": 10,
   "metadata": {
    "collapsed": false
   },
   "outputs": [
    {
     "data": {
      "text/plain": [
       "59.44412721822106"
      ]
     },
     "execution_count": 10,
     "metadata": {},
     "output_type": "execute_result"
    }
   ],
   "source": [
    "tmp['Max power'].sum()"
   ]
  },
  {
   "cell_type": "code",
   "execution_count": 21,
   "metadata": {
    "collapsed": false
   },
   "outputs": [
    {
     "data": {
      "text/html": [
       "<div>\n",
       "<table border=\"1\" class=\"dataframe\">\n",
       "  <thead>\n",
       "    <tr style=\"text-align: right;\">\n",
       "      <th></th>\n",
       "      <th>Concentration</th>\n",
       "      <th>Directional flux</th>\n",
       "      <th>Driven flux</th>\n",
       "      <th>File</th>\n",
       "      <th>Intersurface flux</th>\n",
       "      <th>Max load</th>\n",
       "      <th>Max power</th>\n",
       "      <th>ResID</th>\n",
       "    </tr>\n",
       "  </thead>\n",
       "  <tbody>\n",
       "    <tr>\n",
       "      <th>79092</th>\n",
       "      <td>-0.1</td>\n",
       "      <td>28.610131</td>\n",
       "      <td>40.957264</td>\n",
       "      <td>chi1ASP152</td>\n",
       "      <td>7.949038</td>\n",
       "      <td>0.40099</td>\n",
       "      <td>5.538951</td>\n",
       "      <td>152</td>\n",
       "    </tr>\n",
       "    <tr>\n",
       "      <th>79372</th>\n",
       "      <td>-0.1</td>\n",
       "      <td>15.239268</td>\n",
       "      <td>136.418205</td>\n",
       "      <td>chi2ASN157</td>\n",
       "      <td>17.819112</td>\n",
       "      <td>0.34099</td>\n",
       "      <td>2.585261</td>\n",
       "      <td>157</td>\n",
       "    </tr>\n",
       "    <tr>\n",
       "      <th>79994</th>\n",
       "      <td>-0.1</td>\n",
       "      <td>7.448218</td>\n",
       "      <td>75.327080</td>\n",
       "      <td>phiS2P324</td>\n",
       "      <td>15.187449</td>\n",
       "      <td>0.18099</td>\n",
       "      <td>0.665612</td>\n",
       "      <td>324</td>\n",
       "    </tr>\n",
       "    <tr>\n",
       "      <th>79568</th>\n",
       "      <td>-0.1</td>\n",
       "      <td>13.128531</td>\n",
       "      <td>29.545781</td>\n",
       "      <td>chi2TRP16</td>\n",
       "      <td>4.915500</td>\n",
       "      <td>0.17099</td>\n",
       "      <td>1.123899</td>\n",
       "      <td>16</td>\n",
       "    </tr>\n",
       "    <tr>\n",
       "      <th>80341</th>\n",
       "      <td>-0.1</td>\n",
       "      <td>42.741092</td>\n",
       "      <td>87.101455</td>\n",
       "      <td>psiSER311</td>\n",
       "      <td>13.940469</td>\n",
       "      <td>0.15099</td>\n",
       "      <td>3.167703</td>\n",
       "      <td>311</td>\n",
       "    </tr>\n",
       "  </tbody>\n",
       "</table>\n",
       "</div>"
      ],
      "text/plain": [
       "       Concentration  Directional flux  Driven flux        File  \\\n",
       "79092           -0.1         28.610131    40.957264  chi1ASP152   \n",
       "79372           -0.1         15.239268   136.418205  chi2ASN157   \n",
       "79994           -0.1          7.448218    75.327080   phiS2P324   \n",
       "79568           -0.1         13.128531    29.545781   chi2TRP16   \n",
       "80341           -0.1         42.741092    87.101455   psiSER311   \n",
       "\n",
       "       Intersurface flux  Max load  Max power ResID  \n",
       "79092           7.949038   0.40099   5.538951   152  \n",
       "79372          17.819112   0.34099   2.585261   157  \n",
       "79994          15.187449   0.18099   0.665612   324  \n",
       "79568           4.915500   0.17099   1.123899    16  \n",
       "80341          13.940469   0.15099   3.167703   311  "
      ]
     },
     "execution_count": 21,
     "metadata": {},
     "output_type": "execute_result"
    }
   ],
   "source": [
    "tmp.sort_values('Max load', ascending=False).head()"
   ]
  },
  {
   "cell_type": "markdown",
   "metadata": {},
   "source": [
    "How many motors show significant amount of load bearing at this concentration?"
   ]
  },
  {
   "cell_type": "code",
   "execution_count": 22,
   "metadata": {
    "collapsed": false
   },
   "outputs": [
    {
     "data": {
      "text/plain": [
       "35"
      ]
     },
     "execution_count": 22,
     "metadata": {},
     "output_type": "execute_result"
    }
   ],
   "source": [
    "sum(tmp['Max load'] > 0.01) + sum(tmp['Max load'] < -0.01)"
   ]
  },
  {
   "cell_type": "markdown",
   "metadata": {},
   "source": [
    "And how many of those show moderate directional flux?"
   ]
  },
  {
   "cell_type": "code",
   "execution_count": 24,
   "metadata": {
    "collapsed": false
   },
   "outputs": [
    {
     "data": {
      "text/plain": [
       "136"
      ]
     },
     "execution_count": 24,
     "metadata": {},
     "output_type": "execute_result"
    }
   ],
   "source": [
    "sum(tmp['Directional flux'] > 1) + sum(tmp['Directional flux'] < -1)"
   ]
  },
  {
   "cell_type": "code",
   "execution_count": 25,
   "metadata": {
    "collapsed": true
   },
   "outputs": [],
   "source": [
    "delta_G = -7.2 # kcal per mol at [S] = 0.1 M\n",
    "this = simulation(data_source = 'pka_md_data')\n",
    "this.name = 'chi1ASP152'\n",
    "this.cSubstrate = 0.1\n",
    "this.simulate()\n",
    "prob_bound_state = np.sum(this.ss[this.bins:2*this.bins])\n",
    "power_in = delta_G * this.catalytic_rate * prob_bound_state"
   ]
  },
  {
   "cell_type": "code",
   "execution_count": 27,
   "metadata": {
    "collapsed": false
   },
   "outputs": [
    {
     "name": "stdout",
     "output_type": "stream",
     "text": [
      "-1001.59142773\n"
     ]
    }
   ],
   "source": [
    "print(power_in)"
   ]
  },
  {
   "cell_type": "markdown",
   "metadata": {},
   "source": [
    "What is the maximum power generated by any angle at [S] = 1e-3 M?"
   ]
  },
  {
   "cell_type": "code",
   "execution_count": 28,
   "metadata": {
    "collapsed": true
   },
   "outputs": [],
   "source": [
    "tmp = return_concentration_slice(df, -3)"
   ]
  },
  {
   "cell_type": "code",
   "execution_count": 34,
   "metadata": {
    "collapsed": false
   },
   "outputs": [
    {
     "name": "stderr",
     "output_type": "stream",
     "text": [
      "/home/dslochower/anaconda3/lib/python3.5/site-packages/ipykernel/__main__.py:1: FutureWarning: sort(columns=....) is deprecated, use sort_values(by=.....)\n",
      "  if __name__ == '__main__':\n"
     ]
    },
    {
     "data": {
      "text/html": [
       "<div>\n",
       "<table border=\"1\" class=\"dataframe\">\n",
       "  <thead>\n",
       "    <tr style=\"text-align: right;\">\n",
       "      <th></th>\n",
       "      <th>Concentration</th>\n",
       "      <th>Directional flux</th>\n",
       "      <th>Driven flux</th>\n",
       "      <th>File</th>\n",
       "      <th>Intersurface flux</th>\n",
       "      <th>Max load</th>\n",
       "      <th>Max power</th>\n",
       "      <th>ResID</th>\n",
       "    </tr>\n",
       "  </thead>\n",
       "  <tbody>\n",
       "    <tr>\n",
       "      <th>40567</th>\n",
       "      <td>-3.0</td>\n",
       "      <td>-40.261997</td>\n",
       "      <td>77.772012</td>\n",
       "      <td>chi2GLU194</td>\n",
       "      <td>18.562073</td>\n",
       "      <td>-0.09799</td>\n",
       "      <td>2.016239</td>\n",
       "      <td>194</td>\n",
       "    </tr>\n",
       "    <tr>\n",
       "      <th>40272</th>\n",
       "      <td>-3.0</td>\n",
       "      <td>-19.758834</td>\n",
       "      <td>81.945888</td>\n",
       "      <td>chi1GLU194</td>\n",
       "      <td>20.036930</td>\n",
       "      <td>-0.09299</td>\n",
       "      <td>0.911775</td>\n",
       "      <td>194</td>\n",
       "    </tr>\n",
       "    <tr>\n",
       "      <th>40232</th>\n",
       "      <td>-3.0</td>\n",
       "      <td>19.571276</td>\n",
       "      <td>27.885801</td>\n",
       "      <td>chi1ASP152</td>\n",
       "      <td>5.444010</td>\n",
       "      <td>0.08799</td>\n",
       "      <td>0.850275</td>\n",
       "      <td>152</td>\n",
       "    </tr>\n",
       "    <tr>\n",
       "      <th>41521</th>\n",
       "      <td>-3.0</td>\n",
       "      <td>-15.960652</td>\n",
       "      <td>59.706824</td>\n",
       "      <td>psiVAL109</td>\n",
       "      <td>10.063211</td>\n",
       "      <td>-0.05599</td>\n",
       "      <td>0.447352</td>\n",
       "      <td>109</td>\n",
       "    </tr>\n",
       "    <tr>\n",
       "      <th>40392</th>\n",
       "      <td>-3.0</td>\n",
       "      <td>-5.850426</td>\n",
       "      <td>54.425885</td>\n",
       "      <td>chi1PHE140</td>\n",
       "      <td>14.212754</td>\n",
       "      <td>-0.13099</td>\n",
       "      <td>0.396225</td>\n",
       "      <td>140</td>\n",
       "    </tr>\n",
       "  </tbody>\n",
       "</table>\n",
       "</div>"
      ],
      "text/plain": [
       "       Concentration  Directional flux  Driven flux        File  \\\n",
       "40567           -3.0        -40.261997    77.772012  chi2GLU194   \n",
       "40272           -3.0        -19.758834    81.945888  chi1GLU194   \n",
       "40232           -3.0         19.571276    27.885801  chi1ASP152   \n",
       "41521           -3.0        -15.960652    59.706824   psiVAL109   \n",
       "40392           -3.0         -5.850426    54.425885  chi1PHE140   \n",
       "\n",
       "       Intersurface flux  Max load  Max power ResID  \n",
       "40567          18.562073  -0.09799   2.016239   194  \n",
       "40272          20.036930  -0.09299   0.911775   194  \n",
       "40232           5.444010   0.08799   0.850275   152  \n",
       "41521          10.063211  -0.05599   0.447352   109  \n",
       "40392          14.212754  -0.13099   0.396225   140  "
      ]
     },
     "execution_count": 34,
     "metadata": {},
     "output_type": "execute_result"
    }
   ],
   "source": [
    "tmp.sort('Max power', ascending=False).head()"
   ]
  },
  {
   "cell_type": "code",
   "execution_count": null,
   "metadata": {
    "collapsed": true
   },
   "outputs": [],
   "source": []
  },
  {
   "cell_type": "code",
   "execution_count": null,
   "metadata": {
    "collapsed": true
   },
   "outputs": [],
   "source": []
  },
  {
   "cell_type": "code",
   "execution_count": null,
   "metadata": {
    "collapsed": true
   },
   "outputs": [],
   "source": []
  },
  {
   "cell_type": "code",
   "execution_count": 67,
   "metadata": {
    "collapsed": false
   },
   "outputs": [],
   "source": [
    "percent = 100 * concentration_counts[np.round(concentration_counts['Concentration'], 1) ==  np.round(-3.0, 1)]['Directional flux > 1'].values[0] / len(names)"
   ]
  },
  {
   "cell_type": "code",
   "execution_count": 68,
   "metadata": {
    "collapsed": false
   },
   "outputs": [
    {
     "data": {
      "text/plain": [
       "8.7313432835820901"
      ]
     },
     "execution_count": 68,
     "metadata": {},
     "output_type": "execute_result"
    }
   ],
   "source": [
    "percent"
   ]
  },
  {
   "cell_type": "code",
   "execution_count": 50,
   "metadata": {
    "collapsed": false
   },
   "outputs": [],
   "source": [
    "df = pd.read_pickle('adk-concentration-counts.pickle')"
   ]
  },
  {
   "cell_type": "code",
   "execution_count": 55,
   "metadata": {
    "collapsed": false
   },
   "outputs": [
    {
     "name": "stderr",
     "output_type": "stream",
     "text": [
      "/home/dslochower/anaconda3/lib/python3.5/site-packages/ipykernel/__main__.py:8: SettingWithCopyWarning: \n",
      "A value is trying to be set on a copy of a slice from a DataFrame.\n",
      "Try using .loc[row_indexer,col_indexer] = value instead\n",
      "\n",
      "See the caveats in the documentation: http://pandas.pydata.org/pandas-docs/stable/indexing.html#indexing-view-versus-copy\n",
      "/home/dslochower/anaconda3/lib/python3.5/site-packages/ipykernel/__main__.py:9: SettingWithCopyWarning: \n",
      "A value is trying to be set on a copy of a slice from a DataFrame.\n",
      "Try using .loc[row_indexer,col_indexer] = value instead\n",
      "\n",
      "See the caveats in the documentation: http://pandas.pydata.org/pandas-docs/stable/indexing.html#indexing-view-versus-copy\n"
     ]
    }
   ],
   "source": [
    "calculation = True\n",
    "adk_concentration_counts = pd.DataFrame()\n",
    "if calculation:\n",
    "\n",
    "    for concentration in np.arange(-6, 0, 0.1):\n",
    "        # This is the dataframe that matches this concentration...\n",
    "        tmp = df[np.round(df['Concentration'], 1) ==  np.round(concentration, 1)]\n",
    "        tmp['Directional flux'] = tmp['Directional flux'].abs()\n",
    "        tmp['Driven flux'] = tmp['Driven flux'].abs()\n",
    "\n",
    "        adk_concentration_counts = adk_concentration_counts.append(pd.DataFrame({\n",
    "                                'Concentration' : concentration,\n",
    "                                'Directional flux > 1' : np.sum(tmp['Directional flux'] > 1),\n",
    "                                'Driven flux > 1' : np.sum(tmp['Driven flux'] > 1),\n",
    "                    }, index=[0]), ignore_index=True)\n",
    "    adk_concentration_counts.to_pickle('adk-concentration-counts.pickle')\n",
    "else:\n",
    "    adk_concentration_counts = pd.read_pickle('adk-concentration-counts.pickle')"
   ]
  },
  {
   "cell_type": "code",
   "execution_count": 56,
   "metadata": {
    "collapsed": false
   },
   "outputs": [],
   "source": [
    "adk_percent = 100 * adk_concentration_counts[np.round(adk_concentration_counts['Concentration'], 1) ==  np.round(-3.0, 1)]['Directional flux > 1'].values[0] / 903"
   ]
  },
  {
   "cell_type": "code",
   "execution_count": 57,
   "metadata": {
    "collapsed": false
   },
   "outputs": [
    {
     "data": {
      "text/plain": [
       "13.732004429678849"
      ]
     },
     "execution_count": 57,
     "metadata": {},
     "output_type": "execute_result"
    }
   ],
   "source": [
    "adk_percent"
   ]
  }
 ],
 "metadata": {
  "anaconda-cloud": {},
  "kernelspec": {
   "display_name": "Python [Root]",
   "language": "python",
   "name": "Python [Root]"
  },
  "language_info": {
   "codemirror_mode": {
    "name": "ipython",
    "version": 3
   },
   "file_extension": ".py",
   "mimetype": "text/x-python",
   "name": "python",
   "nbconvert_exporter": "python",
   "pygments_lexer": "ipython3",
   "version": "3.5.1"
  }
 },
 "nbformat": 4,
 "nbformat_minor": 0
}
