{
 "cells": [
  {
   "cell_type": "code",
   "execution_count": 58,
   "metadata": {
    "collapsed": false
   },
   "outputs": [],
   "source": [
    "import urllib.request\n",
    "import urllib.parse"
   ]
  },
  {
   "cell_type": "code",
   "execution_count": 110,
   "metadata": {
    "collapsed": false
   },
   "outputs": [],
   "source": [
    "url = 'http://quickly.rcsb.org/pdb/rest/search'\n",
    "\n",
    "data = urllib.parse.urlencode(\n",
    "    {'Content-Type' : 'application/xml',\n",
    "     'Content-Encoding' : 'UTF-8',\n",
    "     'queryType' : 'org.pdb.query.simple.ExpTypeQuery',\n",
    "     'description' : 'Experimental Method Search: Experimental Method=SOLID-STATE NMR',\n",
    "     'mvStructure.expMethod.value' : 'SOLID-STATE NMR'}\n",
    ")\n",
    "data = data.encode('ascii')\n",
    "headers = {\"Content-Type\":\" application/xml;charset=utf-8\"}\n",
    "\n",
    "# queryText = \"\"\"\n",
    "# <?xml version=\"1.0\" encoding=\"UTF-8\"?>\n",
    "# <version>B0907</version>\n",
    "# <queryType>org.pdb.query.simple.ExpTypeQuery</queryType>\n",
    "# <description>Experimental Method Search: Experimental Method=SOLID-STATE NMR</description>\n",
    "# <mvStructure.expMethod.value>SOLID-STATE NMR</mvStructure.expMethod.value>\n",
    "# </orgPdbQuery>\n",
    "# \"\"\"\n",
    "\n",
    "\n",
    "#print(\"query:\\n\", queryText)\n",
    "#print(\"querying PDB...\\n\")\n",
    "\n",
    "#data = urllib.parse.urlencode(queryText)\n",
    "#print(data)\n",
    "\n",
    "# req = urllib.request.Request(url, data, headers)\n",
    "req = urllib.request.Request(url, data)\n",
    "f = urllib.request.urlopen(req)\n",
    "\n",
    "result = f.read()"
   ]
  },
  {
   "cell_type": "code",
   "execution_count": 111,
   "metadata": {
    "collapsed": false
   },
   "outputs": [
    {
     "data": {
      "text/plain": [
       "b'Problem creating Query from XML: Content is not allowed in prolog.\\nContent-Encoding=UTF-8&Content-Type=application/xml&mvStructure.expMethod.value=SOLID-STATE NMR&queryType=org.pdb.query.simple.ExpTypeQuery&description=Experimental Method Search: Experimental Method=SOLID-STATE NMR\\n'"
      ]
     },
     "execution_count": 111,
     "metadata": {},
     "output_type": "execute_result"
    }
   ],
   "source": [
    "result"
   ]
  },
  {
   "cell_type": "code",
   "execution_count": 63,
   "metadata": {
    "collapsed": true
   },
   "outputs": [],
   "source": [
    "import requests"
   ]
  },
  {
   "cell_type": "code",
   "execution_count": 112,
   "metadata": {
    "collapsed": false
   },
   "outputs": [],
   "source": [
    "queryText = \"\"\"<?xml version=\"1.0\" encoding=\"utf-8\"?>\n",
    "<orgPdbQuery>\n",
    "<queryType>org.pdb.query.simple.ExpTypeQuery</queryType>\n",
    "<description>Experimental Method Search: Experimental Method=SOLID-STATE NMR</description>\n",
    "<mvStructure.expMethod.value>SOLID-STATE NMR</mvStructure.expMethod.value>\n",
    "</orgPdbQuery>\n",
    "\"\"\"\n",
    "# headers = {'Content-Type' : 'application/xml'}\n",
    "result = requests.post(url, data=queryText,headers=headers)\n",
    "result = requests.post(url, data=queryText)\n"
   ]
  },
  {
   "cell_type": "code",
   "execution_count": 113,
   "metadata": {
    "collapsed": false,
    "scrolled": true
   },
   "outputs": [
    {
     "data": {
      "text/plain": [
       "'<html><head><title>Apache Tomcat/7.0.61 - Error report</title><style><!--H1 {font-family:Tahoma,Arial,sans-serif;color:white;background-color:#525D76;font-size:22px;} H2 {font-family:Tahoma,Arial,sans-serif;color:white;background-color:#525D76;font-size:16px;} H3 {font-family:Tahoma,Arial,sans-serif;color:white;background-color:#525D76;font-size:14px;} BODY {font-family:Tahoma,Arial,sans-serif;color:black;background-color:white;} B {font-family:Tahoma,Arial,sans-serif;color:white;background-color:#525D76;} P {font-family:Tahoma,Arial,sans-serif;background:white;color:black;font-size:12px;}A {color : black;}A.name {color : black;}HR {color : #525D76;}--></style> </head><body><h1>HTTP Status 500 - </h1><HR size=\"1\" noshade=\"noshade\"><p><b>type</b> Exception report</p><p><b>message</b> <u></u></p><p><b>description</b> <u>The server encountered an internal error that prevented it from fulfilling this request.</u></p><p><b>exception</b> <pre>java.lang.NullPointerException\\n\\tjava.util.StringTokenizer.&lt;init&gt;(StringTokenizer.java:199)\\n\\tjava.util.StringTokenizer.&lt;init&gt;(StringTokenizer.java:221)\\n\\torg.rcsb.servlet.RestfulServiceServlet.doPost(RestfulServiceServlet.java:1016)\\n\\tjavax.servlet.http.HttpServlet.service(HttpServlet.java:650)\\n\\tjavax.servlet.http.HttpServlet.service(HttpServlet.java:731)\\n\\torg.apache.tomcat.websocket.server.WsFilter.doFilter(WsFilter.java:52)\\n\\torg.apache.struts2.dispatcher.ng.filter.StrutsPrepareAndExecuteFilter.doFilter(StrutsPrepareAndExecuteFilter.java:86)\\n\\torg.pdb.util.web.OutOfServiceFilter.doFilter(OutOfServiceFilter.java:91)\\n\\torg.pdb.util.web.DOSFilter.doFilter(DOSFilter.java:158)\\n\\torg.pdb.util.web.AntiRobotFilter.doFilter(AntiRobotFilter.java:29)\\n\\torg.tuckey.web.filters.urlrewrite.RuleChain.handleRewrite(RuleChain.java:176)\\n\\torg.tuckey.web.filters.urlrewrite.RuleChain.doRules(RuleChain.java:145)\\n\\torg.tuckey.web.filters.urlrewrite.UrlRewriter.processRequest(UrlRewriter.java:92)\\n\\torg.tuckey.web.filters.urlrewrite.UrlRewriteFilter.doFilter(UrlRewriteFilter.java:394)\\n</pre></p><p><b>note</b> <u>The full stack trace of the root cause is available in the Apache Tomcat/7.0.61 logs.</u></p><HR size=\"1\" noshade=\"noshade\"><h3>Apache Tomcat/7.0.61</h3></body></html>'"
      ]
     },
     "execution_count": 113,
     "metadata": {},
     "output_type": "execute_result"
    }
   ],
   "source": [
    "result.text"
   ]
  },
  {
   "cell_type": "code",
   "execution_count": 109,
   "metadata": {
    "collapsed": false
   },
   "outputs": [
    {
     "data": {
      "text/plain": [
       "'<html><head><title>Apache Tomcat/7.0.68 - Error report</title><style><!--H1 {font-family:Tahoma,Arial,sans-serif;color:white;background-color:#525D76;font-size:22px;} H2 {font-family:Tahoma,Arial,sans-serif;color:white;background-color:#525D76;font-size:16px;} H3 {font-family:Tahoma,Arial,sans-serif;color:white;background-color:#525D76;font-size:14px;} BODY {font-family:Tahoma,Arial,sans-serif;color:black;background-color:white;} B {font-family:Tahoma,Arial,sans-serif;color:white;background-color:#525D76;} P {font-family:Tahoma,Arial,sans-serif;background:white;color:black;font-size:12px;}A {color : black;}A.name {color : black;}HR {color : #525D76;}--></style> </head><body><h1>HTTP Status 500 - </h1><HR size=\"1\" noshade=\"noshade\"><p><b>type</b> Exception report</p><p><b>message</b> <u></u></p><p><b>description</b> <u>The server encountered an internal error that prevented it from fulfilling this request.</u></p><p><b>exception</b> <pre>java.lang.NullPointerException\\n\\tjava.util.StringTokenizer.&lt;init&gt;(StringTokenizer.java:199)\\n\\tjava.util.StringTokenizer.&lt;init&gt;(StringTokenizer.java:221)\\n\\torg.rcsb.servlet.RestfulServiceServlet.doPost(RestfulServiceServlet.java:1371)\\n\\tjavax.servlet.http.HttpServlet.service(HttpServlet.java:650)\\n\\tjavax.servlet.http.HttpServlet.service(HttpServlet.java:731)\\n\\torg.apache.tomcat.websocket.server.WsFilter.doFilter(WsFilter.java:52)\\n\\torg.apache.struts2.dispatcher.ng.filter.StrutsPrepareAndExecuteFilter.doFilter(StrutsPrepareAndExecuteFilter.java:86)\\n\\torg.pdb.util.web.OutOfServiceFilter.doFilter(OutOfServiceFilter.java:91)\\n\\torg.pdb.util.web.DOSFilter.doFilter(DOSFilter.java:158)\\n\\torg.pdb.util.web.AntiRobotFilter.doFilter(AntiRobotFilter.java:29)\\n\\torg.tuckey.web.filters.urlrewrite.RuleChain.handleRewrite(RuleChain.java:176)\\n\\torg.tuckey.web.filters.urlrewrite.RuleChain.doRules(RuleChain.java:145)\\n\\torg.tuckey.web.filters.urlrewrite.UrlRewriter.processRequest(UrlRewriter.java:92)\\n\\torg.tuckey.web.filters.urlrewrite.UrlRewriteFilter.doFilter(UrlRewriteFilter.java:394)\\n</pre></p><p><b>note</b> <u>The full stack trace of the root cause is available in the Apache Tomcat/7.0.68 logs.</u></p><HR size=\"1\" noshade=\"noshade\"><h3>Apache Tomcat/7.0.68</h3></body></html>'"
      ]
     },
     "execution_count": 109,
     "metadata": {},
     "output_type": "execute_result"
    }
   ],
   "source": [
    "queryText = \"\"\"\n",
    "<?xml version=\"1.0\" encoding=\"UTF-8\"?>\n",
    "<orgPdbQuery>    \n",
    "    <queryType>org.pdb.query.simple.UpAccessionIdQuery</queryType>\n",
    "    <description>Simple query for a list of UniprotKB Accession IDs: P50225</description>   \n",
    "    <accessionIdList>P50225</accessionIdList>\n",
    "</orgPdbQuery>\"\"\"\n",
    "# headers = {'Content-Type' : 'application/xml'}\n",
    "# result = requests.post(url, data=queryText, headers=headers)\n",
    "result = requests.post(url, data=queryText)\n",
    "\n",
    "result.text\n"
   ]
  },
  {
   "cell_type": "code",
   "execution_count": null,
   "metadata": {
    "collapsed": true
   },
   "outputs": [],
   "source": []
  }
 ],
 "metadata": {
  "kernelspec": {
   "display_name": "Python 3",
   "language": "python",
   "name": "python3"
  },
  "language_info": {
   "codemirror_mode": {
    "name": "ipython",
    "version": 3
   },
   "file_extension": ".py",
   "mimetype": "text/x-python",
   "name": "python",
   "nbconvert_exporter": "python",
   "pygments_lexer": "ipython3",
   "version": "3.5.1"
  }
 },
 "nbformat": 4,
 "nbformat_minor": 0
}
